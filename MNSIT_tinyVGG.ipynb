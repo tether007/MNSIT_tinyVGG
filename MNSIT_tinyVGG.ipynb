"metadata": {
  "colab": {
    "provenance": [],
    "gpuType": "T4"
  },
  "kernelspec": {
    "name": "python3",
    "display_name": "Python 3"
  },
  "language_info": {
    "name": "python"
  },
  "accelerator": "GPU"
}
