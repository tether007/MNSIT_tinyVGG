{
  "nbformat": 4,
  "nbformat_minor": 0,
  "metadata": {
    "colab": {
      "provenance": [],
      "gpuType": "T4"
    },
    "kernelspec": {
      "name": "python3",
      "display_name": "Python 3"
    },
    "language_info": {
      "name": "python"
    },
    "accelerator": "GPU",
        "0182f6cf8d0a4a69849b3c9af1843745": {
          "model_module": "@jupyter-widgets/controls",
          "model_name": "HTMLModel",
          "model_module_version": "1.5.0",
          "state": {
            "_dom_classes": [],
            "_model_module": "@jupyter-widgets/controls",
            "_model_module_version": "1.5.0",
            "_model_name": "HTMLModel",
            "_view_count": null,
            "_view_module": "@jupyter-widgets/controls",
            "_view_module_version": "1.5.0",
            "_view_name": "HTMLView",
            "description": "",
            "description_tooltip": null,
            "layout": "IPY_MODEL_e9f402afb35b4e97af2f151054244507",
            "placeholder": "​",
            "style": "IPY_MODEL_44b8c786ba34482ca0b7e0c940fad6b3",
            "value": "100%"
          }
        },
        "275aa84a40e644db9a4d03eecae770fb": {
          "model_module": "@jupyter-widgets/controls",
          "model_name": "FloatProgressModel",
          "model_module_version": "1.5.0",
          "state": {
            "_dom_classes": [],
            "_model_module": "@jupyter-widgets/controls",
            "_model_module_version": "1.5.0",
            "_model_name": "FloatProgressModel",
            "_view_count": null,
            "_view_module": "@jupyter-widgets/controls",
            "_view_module_version": "1.5.0",
            "_view_name": "ProgressView",
            "bar_style": "success",
            "description": "",
            "description_tooltip": null,
            "layout": "IPY_MODEL_5357dee712e545cca5b0100d4dc0b74c",
            "max": 6,
            "min": 0,
            "orientation": "horizontal",
            "style": "IPY_MODEL_b0baedee79be4cc79cedf1c12d43d975",
            "value": 6
          }
        },
        "4152390be9a74eb882b21eb743ad7fc8": {
          "model_module": "@jupyter-widgets/controls",
          "model_name": "HTMLModel",
          "model_module_version": "1.5.0",
          "state": {
            "_dom_classes": [],
            "_model_module": "@jupyter-widgets/controls",
            "_model_module_version": "1.5.0",
            "_model_name": "HTMLModel",
            "_view_count": null,
            "_view_module": "@jupyter-widgets/controls",
            "_view_module_version": "1.5.0",
            "_view_name": "HTMLView",
            "description": "",
            "description_tooltip": null,
            "layout": "IPY_MODEL_cf80dc166ac94ed983f519f0ad46a9ee",
            "placeholder": "​",
            "style": "IPY_MODEL_738da893a7e24fee8337825d1b9a8237",
            "value": " 6/6 [01:21&lt;00:00, 13.41s/it]"
          }
        },
        "e08ad2a6228e4dd698dc9441805b9c16": {
          "model_module": "@jupyter-widgets/base",
          "model_name": "LayoutModel",
          "model_module_version": "1.2.0",
          "state": {
            "_model_module": "@jupyter-widgets/base",
            "_model_module_version": "1.2.0",
            "_model_name": "LayoutModel",
            "_view_count": null,
            "_view_module": "@jupyter-widgets/base",
            "_view_module_version": "1.2.0",
            "_view_name": "LayoutView",
            "align_content": null,
            "align_items": null,
            "align_self": null,
            "border": null,
            "bottom": null,
            "display": null,
            "flex": null,
            "flex_flow": null,
            "grid_area": null,
            "grid_auto_columns": null,
            "grid_auto_flow": null,
            "grid_auto_rows": null,
            "grid_column": null,
            "grid_gap": null,
            "grid_row": null,
            "grid_template_areas": null,
            "grid_template_columns": null,
            "grid_template_rows": null,
            "height": null,
            "justify_content": null,
            "justify_items": null,
            "left": null,
            "margin": null,
            "max_height": null,
            "max_width": null,
            "min_height": null,
            "min_width": null,
            "object_fit": null,
            "object_position": null,
            "order": null,
            "overflow": null,
            "overflow_x": null,
            "overflow_y": null,
            "padding": null,
            "right": null,
            "top": null,
            "visibility": null,
            "width": null
          }
        },
        "e9f402afb35b4e97af2f151054244507": {
          "model_module": "@jupyter-widgets/base",
          "model_name": "LayoutModel",
          "model_module_version": "1.2.0",
          "state": {
            "_model_module": "@jupyter-widgets/base",
            "_model_module_version": "1.2.0",
            "_model_name": "LayoutModel",
            "_view_count": null,
            "_view_module": "@jupyter-widgets/base",
            "_view_module_version": "1.2.0",
            "_view_name": "LayoutView",
            "align_content": null,
            "align_items": null,
            "align_self": null,
            "border": null,
            "bottom": null,
            "display": null,
            "flex": null,
            "flex_flow": null,
            "grid_area": null,
            "grid_auto_columns": null,
            "grid_auto_flow": null,
            "grid_auto_rows": null,
            "grid_column": null,
            "grid_gap": null,
            "grid_row": null,
            "grid_template_areas": null,
            "grid_template_columns": null,
            "grid_template_rows": null,
            "height": null,
            "justify_content": null,
            "justify_items": null,
            "left": null,
            "margin": null,
            "max_height": null,
            "max_width": null,
            "min_height": null,
            "min_width": null,
            "object_fit": null,
            "object_position": null,
            "order": null,
            "overflow": null,
            "overflow_x": null,
            "overflow_y": null,
            "padding": null,
            "right": null,
            "top": null,
            "visibility": null,
            "width": null
          }
        },
        "44b8c786ba34482ca0b7e0c940fad6b3": {
          "model_module": "@jupyter-widgets/controls",
          "model_name": "DescriptionStyleModel",
          "model_module_version": "1.5.0",
          "state": {
            "_model_module": "@jupyter-widgets/controls",
            "_model_module_version": "1.5.0",
            "_model_name": "DescriptionStyleModel",
            "_view_count": null,
            "_view_module": "@jupyter-widgets/base",
            "_view_module_version": "1.2.0",
            "_view_name": "StyleView",
            "description_width": ""
          }
        },
        "5357dee712e545cca5b0100d4dc0b74c": {
          "model_module": "@jupyter-widgets/base",
          "model_name": "LayoutModel",
          "model_module_version": "1.2.0",
          "state": {
            "_model_module": "@jupyter-widgets/base",
            "_model_module_version": "1.2.0",
            "_model_name": "LayoutModel",
            "_view_count": null,
            "_view_module": "@jupyter-widgets/base",
            "_view_module_version": "1.2.0",
            "_view_name": "LayoutView",
            "align_content": null,
            "align_items": null,
            "align_self": null,
            "border": null,
            "bottom": null,
            "display": null,
            "flex": null,
            "flex_flow": null,
            "grid_area": null,
            "grid_auto_columns": null,
            "grid_auto_flow": null,
            "grid_auto_rows": null,
            "grid_column": null,
            "grid_gap": null,
            "grid_row": null,
            "grid_template_areas": null,
            "grid_template_columns": null,
            "grid_template_rows": null,
            "height": null,
            "justify_content": null,
            "justify_items": null,
            "left": null,
            "margin": null,
            "max_height": null,
            "max_width": null,
            "min_height": null,
            "min_width": null,
            "object_fit": null,
            "object_position": null,
            "order": null,
            "overflow": null,
            "overflow_x": null,
            "overflow_y": null,
            "padding": null,
            "right": null,
            "top": null,
            "visibility": null,
            "width": null
          }
        },
        "b0baedee79be4cc79cedf1c12d43d975": {
          "model_module": "@jupyter-widgets/controls",
          "model_name": "ProgressStyleModel",
          "model_module_version": "1.5.0",
          "state": {
            "_model_module": "@jupyter-widgets/controls",
            "_model_module_version": "1.5.0",
            "_model_name": "ProgressStyleModel",
            "_view_count": null,
            "_view_module": "@jupyter-widgets/base",
            "_view_module_version": "1.2.0",
            "_view_name": "StyleView",
            "bar_color": null,
            "description_width": ""
          }
        },
        "cf80dc166ac94ed983f519f0ad46a9ee": {
          "model_module": "@jupyter-widgets/base",
          "model_name": "LayoutModel",
          "model_module_version": "1.2.0",
          "state": {
            "_model_module": "@jupyter-widgets/base",
            "_model_module_version": "1.2.0",
            "_model_name": "LayoutModel",
            "_view_count": null,
            "_view_module": "@jupyter-widgets/base",
            "_view_module_version": "1.2.0",
            "_view_name": "LayoutView",
            "align_content": null,
            "align_items": null,
            "align_self": null,
            "border": null,
            "bottom": null,
            "display": null,
            "flex": null,
            "flex_flow": null,
            "grid_area": null,
            "grid_auto_columns": null,
            "grid_auto_flow": null,
            "grid_auto_rows": null,
            "grid_column": null,
            "grid_gap": null,
            "grid_row": null,
            "grid_template_areas": null,
            "grid_template_columns": null,
            "grid_template_rows": null,
            "height": null,
            "justify_content": null,
            "justify_items": null,
            "left": null,
            "margin": null,
            "max_height": null,
            "max_width": null,
            "min_height": null,
            "min_width": null,
            "object_fit": null,
            "object_position": null,
            "order": null,
            "overflow": null,
            "overflow_x": null,
            "overflow_y": null,
            "padding": null,
            "right": null,
            "top": null,
            "visibility": null,
            "width": null
          }
        },
        "738da893a7e24fee8337825d1b9a8237": {
          "model_module": "@jupyter-widgets/controls",
          "model_name": "DescriptionStyleModel",
          "model_module_version": "1.5.0",
          "state": {
            "_model_module": "@jupyter-widgets/controls",
            "_model_module_version": "1.5.0",
            "_model_name": "DescriptionStyleModel",
            "_view_count": null,
            "_view_module": "@jupyter-widgets/base",
            "_view_module_version": "1.2.0",
            "_view_name": "StyleView",
            "description_width": ""
          }
        },
        "89b6780cfd824c15aca60c03897d27bd": {
          "model_module": "@jupyter-widgets/controls",
          "model_name": "HBoxModel",
          "model_module_version": "1.5.0",
          "state": {
            "_dom_classes": [],
            "_model_module": "@jupyter-widgets/controls",
            "_model_module_version": "1.5.0",
            "_model_name": "HBoxModel",
            "_view_count": null,
            "_view_module": "@jupyter-widgets/controls",
            "_view_module_version": "1.5.0",
            "_view_name": "HBoxView",
            "box_style": "",
            "children": [
              "IPY_MODEL_dac4a9dbf5a74cc781951c8aed5c2c0d",
              "IPY_MODEL_3ad23be3d91b45bd87ee1b75fcb9389c",
              "IPY_MODEL_252222b082bc4718963c70b2a304818f"
            ],
            "layout": "IPY_MODEL_b8cf6ca08e244a86843527c665d148b2"
          }
        },
        "dac4a9dbf5a74cc781951c8aed5c2c0d": {
          "model_module": "@jupyter-widgets/controls",
          "model_name": "HTMLModel",
          "model_module_version": "1.5.0",
          "state": {
            "_dom_classes": [],
            "_model_module": "@jupyter-widgets/controls",
            "_model_module_version": "1.5.0",
            "_model_name": "HTMLModel",
            "_view_count": null,
            "_view_module": "@jupyter-widgets/controls",
            "_view_module_version": "1.5.0",
            "_view_name": "HTMLView",
            "description": "",
            "description_tooltip": null,
            "layout": "IPY_MODEL_ec244f3ee26345528e308f80bae727bd",
            "placeholder": "​",
            "style": "IPY_MODEL_718ee3c9721f44699f3012ab00e64b35",
            "value": "Making predictions: 100%"
          }
        },
        "3ad23be3d91b45bd87ee1b75fcb9389c": {
          "model_module": "@jupyter-widgets/controls",
          "model_name": "FloatProgressModel",
          "model_module_version": "1.5.0",
          "state": {
            "_dom_classes": [],
            "_model_module": "@jupyter-widgets/controls",
            "_model_module_version": "1.5.0",
            "_model_name": "FloatProgressModel",
            "_view_count": null,
            "_view_module": "@jupyter-widgets/controls",
            "_view_module_version": "1.5.0",
            "_view_name": "ProgressView",
            "bar_style": "success",
            "description": "",
            "description_tooltip": null,
            "layout": "IPY_MODEL_7b4e489aec3b4c2184620e7e31aeccc8",
            "max": 313,
            "min": 0,
            "orientation": "horizontal",
            "style": "IPY_MODEL_f5557b6019924ade9aee43f9233624a6",
            "value": 313
          }
        },
        "252222b082bc4718963c70b2a304818f": {
          "model_module": "@jupyter-widgets/controls",
          "model_name": "HTMLModel",
          "model_module_version": "1.5.0",
          "state": {
            "_dom_classes": [],
            "_model_module": "@jupyter-widgets/controls",
            "_model_module_version": "1.5.0",
            "_model_name": "HTMLModel",
            "_view_count": null,
            "_view_module": "@jupyter-widgets/controls",
            "_view_module_version": "1.5.0",
            "_view_name": "HTMLView",
            "description": "",
            "description_tooltip": null,
            "layout": "IPY_MODEL_5fceda1befd5464ca62f8472d3fba0d2",
            "placeholder": "​",
            "style": "IPY_MODEL_3a009cafae4d4e89863a6606a35338ef",
            "value": " 313/313 [00:01&lt;00:00, 217.02it/s]"
          }
        },
        "b8cf6ca08e244a86843527c665d148b2": {
          "model_module": "@jupyter-widgets/base",
          "model_name": "LayoutModel",
          "model_module_version": "1.2.0",
          "state": {
            "_model_module": "@jupyter-widgets/base",
            "_model_module_version": "1.2.0",
            "_model_name": "LayoutModel",
            "_view_count": null,
            "_view_module": "@jupyter-widgets/base",
            "_view_module_version": "1.2.0",
            "_view_name": "LayoutView",
            "align_content": null,
            "align_items": null,
            "align_self": null,
            "border": null,
            "bottom": null,
            "display": null,
            "flex": null,
            "flex_flow": null,
            "grid_area": null,
            "grid_auto_columns": null,
            "grid_auto_flow": null,
            "grid_auto_rows": null,
            "grid_column": null,
            "grid_gap": null,
            "grid_row": null,
            "grid_template_areas": null,
            "grid_template_columns": null,
            "grid_template_rows": null,
            "height": null,
            "justify_content": null,
            "justify_items": null,
            "left": null,
            "margin": null,
            "max_height": null,
            "max_width": null,
            "min_height": null,
            "min_width": null,
            "object_fit": null,
            "object_position": null,
            "order": null,
            "overflow": null,
            "overflow_x": null,
            "overflow_y": null,
            "padding": null,
            "right": null,
            "top": null,
            "visibility": null,
            "width": null
          }
        },
        "ec244f3ee26345528e308f80bae727bd": {
          "model_module": "@jupyter-widgets/base",
          "model_name": "LayoutModel",
          "model_module_version": "1.2.0",
          "state": {
            "_model_module": "@jupyter-widgets/base",
            "_model_module_version": "1.2.0",
            "_model_name": "LayoutModel",
            "_view_count": null,
            "_view_module": "@jupyter-widgets/base",
            "_view_module_version": "1.2.0",
            "_view_name": "LayoutView",
            "align_content": null,
            "align_items": null,
            "align_self": null,
            "border": null,
            "bottom": null,
            "display": null,
            "flex": null,
            "flex_flow": null,
            "grid_area": null,
            "grid_auto_columns": null,
            "grid_auto_flow": null,
            "grid_auto_rows": null,
            "grid_column": null,
            "grid_gap": null,
            "grid_row": null,
            "grid_template_areas": null,
            "grid_template_columns": null,
            "grid_template_rows": null,
            "height": null,
            "justify_content": null,
            "justify_items": null,
            "left": null,
            "margin": null,
            "max_height": null,
            "max_width": null,
            "min_height": null,
            "min_width": null,
            "object_fit": null,
            "object_position": null,
            "order": null,
            "overflow": null,
            "overflow_x": null,
            "overflow_y": null,
            "padding": null,
            "right": null,
            "top": null,
            "visibility": null,
            "width": null
          }
        },
        "718ee3c9721f44699f3012ab00e64b35": {
          "model_module": "@jupyter-widgets/controls",
          "model_name": "DescriptionStyleModel",
          "model_module_version": "1.5.0",
          "state": {
            "_model_module": "@jupyter-widgets/controls",
            "_model_module_version": "1.5.0",
            "_model_name": "DescriptionStyleModel",
            "_view_count": null,
            "_view_module": "@jupyter-widgets/base",
            "_view_module_version": "1.2.0",
            "_view_name": "StyleView",
            "description_width": ""
          }
        },
        "7b4e489aec3b4c2184620e7e31aeccc8": {
          "model_module": "@jupyter-widgets/base",
          "model_name": "LayoutModel",
          "model_module_version": "1.2.0",
          "state": {
            "_model_module": "@jupyter-widgets/base",
            "_model_module_version": "1.2.0",
            "_model_name": "LayoutModel",
            "_view_count": null,
            "_view_module": "@jupyter-widgets/base",
            "_view_module_version": "1.2.0",
            "_view_name": "LayoutView",
            "align_content": null,
            "align_items": null,
            "align_self": null,
            "border": null,
            "bottom": null,
            "display": null,
            "flex": null,
            "flex_flow": null,
            "grid_area": null,
            "grid_auto_columns": null,
            "grid_auto_flow": null,
            "grid_auto_rows": null,
            "grid_column": null,
            "grid_gap": null,
            "grid_row": null,
            "grid_template_areas": null,
            "grid_template_columns": null,
            "grid_template_rows": null,
            "height": null,
            "justify_content": null,
            "justify_items": null,
            "left": null,
            "margin": null,
            "max_height": null,
            "max_width": null,
            "min_height": null,
            "min_width": null,
            "object_fit": null,
            "object_position": null,
            "order": null,
            "overflow": null,
            "overflow_x": null,
            "overflow_y": null,
            "padding": null,
            "right": null,
            "top": null,
            "visibility": null,
            "width": null
          }
        },
        "f5557b6019924ade9aee43f9233624a6": {
          "model_module": "@jupyter-widgets/controls",
          "model_name": "ProgressStyleModel",
          "model_module_version": "1.5.0",
          "state": {
            "_model_module": "@jupyter-widgets/controls",
            "_model_module_version": "1.5.0",
            "_model_name": "ProgressStyleModel",
            "_view_count": null,
            "_view_module": "@jupyter-widgets/base",
            "_view_module_version": "1.2.0",
            "_view_name": "StyleView",
            "bar_color": null,
            "description_width": ""
          }
        },
        "5fceda1befd5464ca62f8472d3fba0d2": {
          "model_module": "@jupyter-widgets/base",
          "model_name": "LayoutModel",
          "model_module_version": "1.2.0",
          "state": {
            "_model_module": "@jupyter-widgets/base",
            "_model_module_version": "1.2.0",
            "_model_name": "LayoutModel",
            "_view_count": null,
            "_view_module": "@jupyter-widgets/base",
            "_view_module_version": "1.2.0",
            "_view_name": "LayoutView",
            "align_content": null,
            "align_items": null,
            "align_self": null,
            "border": null,
            "bottom": null,
            "display": null,
            "flex": null,
            "flex_flow": null,
            "grid_area": null,
            "grid_auto_columns": null,
            "grid_auto_flow": null,
            "grid_auto_rows": null,
            "grid_column": null,
            "grid_gap": null,
            "grid_row": null,
            "grid_template_areas": null,
            "grid_template_columns": null,
            "grid_template_rows": null,
            "height": null,
            "justify_content": null,
            "justify_items": null,
            "left": null,
            "margin": null,
            "max_height": null,
            "max_width": null,
            "min_height": null,
            "min_width": null,
            "object_fit": null,
            "object_position": null,
            "order": null,
            "overflow": null,
            "overflow_x": null,
            "overflow_y": null,
            "padding": null,
            "right": null,
            "top": null,
            "visibility": null,
            "width": null
          }
        },
        "3a009cafae4d4e89863a6606a35338ef": {
          "model_module": "@jupyter-widgets/controls",
          "model_name": "DescriptionStyleModel",
          "model_module_version": "1.5.0",
          "state": {
            "_model_module": "@jupyter-widgets/controls",
            "_model_module_version": "1.5.0",
            "_model_name": "DescriptionStyleModel",
            "_view_count": null,
            "_view_module": "@jupyter-widgets/base",
            "_view_module_version": "1.2.0",
            "_view_name": "StyleView",
            "description_width": ""
          }
        }
      }
    }
  },
  "cells": [
    {
      "cell_type": "markdown",
      "source": [
        "#1. Agnostic code"
      ],
      "metadata": {
        "id": "Ge1RZmJm7KqB"
      }
    },
    {
      "cell_type": "code",
      "source": [
        "# Import torch\n",
        "import torch\n",
        "\n",
        "print(torch.__version__)\n",
        "\n",
        "device=\"cuda\" if torch.cuda.is_available else \"cpu\""
      ],
      "metadata": {
        "colab": {
          "base_uri": "https://localhost:8080/"
        },
        "id": "XzLtTYtN7W2M",
        "outputId": "fb11cdc9-1cd6-453e-80f7-1a4abb33ed64"
      },
      "execution_count": null,
      "outputs": [
        {
          "output_type": "stream",
          "name": "stdout",
          "text": [
            "2.8.0+cu126\n"
          ]
        }
      ]
    },
    {
      "cell_type": "markdown",
      "source": [
        "## 1.1 Helperfunctions (import)"
      ],
      "metadata": {
        "id": "tUIumObd7dZQ"
      }
    },
    {
      "cell_type": "code",
      "source": [
        "import requests\n",
        "from pathlib import Path\n",
        "\n",
        "#download helper functions from the repo\n",
        "\n",
        "if Path(\"helper_functions.py\").is_file():\n",
        "  print(\"hpfncs already exists\")\n",
        "else:\n",
        "  print(\"downloading...\")\n",
        "  request=requests.get(\"https://raw.githubusercontent.com/mrdbourke/pytorch-deep-learning/refs/heads/main/helper_functions.py\")\n",
        "  with open(\"helper_functions.py\",\"wb\") as f:\n",
        "    f.write(request.content)"
      ],
      "metadata": {
        "colab": {
          "base_uri": "https://localhost:8080/"
        },
        "id": "5uEZDmW97cWJ",
        "outputId": "8ab2a644-c96d-4709-da7a-c239c3a48c29"
      },
      "execution_count": null,
      "outputs": [
        {
          "output_type": "stream",
          "name": "stdout",
          "text": [
            "downloading...\n"
          ]
        }
      ]
    },
    {
      "cell_type": "markdown",
      "source": [
        "# 2 . Load dataset from torch.utils.Data.datasets"
      ],
      "metadata": {
        "id": "ziND5U3D7jj5"
      }
    },
    {
      "cell_type": "code",
      "source": [
        "from torchvision import datasets\n",
        "from torchvision import transforms\n",
        "\n",
        "train_data=datasets.MNIST(\n",
        "    root=\"data\",\n",
        "    train=True,\n",
        "    transform=transforms.ToTensor(),\n",
        "    download=True,\n",
        "    target_transform=None\n",
        ")\n",
        "\n",
        "test_data=datasets.MNIST(\n",
        "    root=\"data\",\n",
        "    train=False,\n",
        "    transform=transforms.ToTensor(),\n",
        "    download=True,\n",
        "    target_transform=None\n",
        ")"
      ],
      "metadata": {
        "colab": {
          "base_uri": "https://localhost:8080/"
        },
        "id": "nTtzSZHf7jGm",
        "outputId": "fd4e78d9-3fb5-4e9a-86a8-e7bd48cad531"
      },
      "execution_count": null,
      "outputs": [
        {
          "output_type": "stream",
          "name": "stderr",
          "text": [
            "100%|██████████| 9.91M/9.91M [00:00<00:00, 16.8MB/s]\n",
            "100%|██████████| 28.9k/28.9k [00:00<00:00, 491kB/s]\n",
            "100%|██████████| 1.65M/1.65M [00:00<00:00, 4.55MB/s]\n",
            "100%|██████████| 4.54k/4.54k [00:00<00:00, 11.5MB/s]\n"
          ]
        }
      ]
    },
    {
      "cell_type": "markdown",
      "source": [
        "## 2.1 . Turn data into iterables by torch.utils.Data.DataLoader"
      ],
      "metadata": {
        "id": "ZMQoO4aR7xVV"
      }
    },
    {
      "cell_type": "code",
      "source": [
        "from torch.utils.data import DataLoader\n",
        "\n",
        "#HP\n",
        "BATCH_SIZE=32\n",
        "train_dataloader=DataLoader(dataset=train_data,batch_size=BATCH_SIZE,shuffle=True)\n",
        "test_dataloader=DataLoader(dataset=test_data,batch_size=BATCH_SIZE,shuffle=False)"
      ],
      "metadata": {
        "id": "vexeMmAQ742B"
      },
      "execution_count": null,
      "outputs": []
    },
    {
      "cell_type": "markdown",
      "source": [
        "# 3 . Visualize the data"
      ],
      "metadata": {
        "id": "esVgpd_e7q7k"
      }
    },
    {
      "cell_type": "code",
      "source": [
        "#plot more Image\n",
        "import matplotlib.pyplot as plt\n",
        "class_names=train_data.classes\n",
        "torch.manual_seed=42\n",
        "fig=plt.figure(figsize=(9,9))\n",
        "row,col=4,4\n",
        "for i in range(1,row*col+1):\n",
        "\n",
        "  random_idx=torch.randint(0,len(train_data),size=[1]).item()\n",
        "  img,label=train_data[random_idx]\n",
        "  fig.add_subplot(row,col,i)\n",
        "  plt.imshow(img.squeeze(),cmap=\"gray\")\n",
        "  plt.title(class_names[label])\n",
        "  plt.axis(False)\n",
        "\n"
      ],
      "metadata": {
        "colab": {
          "base_uri": "https://localhost:8080/",
          "height": 752
        },
        "id": "_FzhgUHb7tSb",
        "outputId": "3e4f8499-1f1e-40d9-d5e6-1500dd4307de"
      },
      "execution_count": null,
      "outputs": [
        {
          "output_type": "display_data",
          "data": {
            "text/plain": [
              "<Figure size 900x900 with 16 Axes>"
            ],
            "image/png": "iVBORw0KGgoAAAANSUhEUgAAAswAAALfCAYAAAB1k5QvAAAAOnRFWHRTb2Z0d2FyZQBNYXRwbG90bGliIHZlcnNpb24zLjEwLjAsIGh0dHBzOi8vbWF0cGxvdGxpYi5vcmcvlHJYcgAAAAlwSFlzAAAPYQAAD2EBqD+naQAAgEJJREFUeJzt3Xd4VcX6//17p5BKEkKTXkIPKEiHhKoGxIQeighEBVGBLwh4UA4HUBEQxAKKjQMaBBNBQEREFDiGEoqAKEgnoCi9hYSazPOHD/vndmYvd8wOae/XdXFd5pOZtSY42blZ2TNjU0opAQAAAGDkkdsDAAAAAPIyCmYAAADAAgUzAAAAYIGCGQAAALBAwQwAAABYoGAGAAAALFAwAwAAABYomAEAAAALFMwAAACABQrmHGCz2WTo0KG5PQwAwN/46quvpH79+uLr6ys2m00uXrwoAwcOlMqVK+f20ADkIQWqYN6zZ4/07NlTqlatKv7+/lKiRAlp1aqVrFixwu332rRpk0ycOFEuXrzo9msDrtq2bZsMHTpUwsPDJSAgQCpWrCixsbFy4MABt9+LOY87Yf369WKz2Yx/kpOT3Xqvc+fOSWxsrPj5+clbb70l8fHxEhAQ4NZ7oOAbOHCg0zlrs9nkxIkTuT1EuIFXbg/AnY4dOyapqakyYMAAKVu2rKSnp8uSJUskJiZG3n33XRk8eLDb7rVp0yaZNGmSDBw4UEJCQtx2XSArpk2bJhs3bpSePXvK3XffLSdPnpTZs2fLvffeK8nJyVK3bl233Ys5jztp+PDh0rhxY4esWrVqbr3Htm3bJDU1VV588UW577777Pn7778vmZmZbr0XCq4nnnjCYf6IiCilZMiQIVK5cmUpV65cLo0M7lSgCuYHH3xQHnzwQYds6NCh0rBhQ5k5c6ZbC+ackpaWxhMOuOyZZ56RhQsXSpEiRexZr169pF69ejJ16lRZsGBBLo4O+OciIyOlR48eOXqP06dPi4ho/wD09vbO0fuiYGnevLk0b97cIduwYYOkp6fLww8/nEujgrsVqLdkmHh6ekqFChXc+mvkiRMnypgxY0REpEqVKvZfu6SkpDi0W7ZsmdStW1d8fHwkPDxcvvrqK+06NptN9u7dK3379pVixYpJRESE/fMLFiyQhg0bip+fn4SGhkrv3r3ll19+0cazZcsW6dChgwQHB4u/v7+0bt1aNm7c6LavF3lXixYtHIplEZHq1atLeHi4/Pzzz267j9Wc79atm9x7770O7aOjo8Vms8nnn39uz7Zs2SI2m01WrVplz44cOSI9e/aU0NBQ8ff3l2bNmsnKlSvdNm7kb6mpqXLr1q0cuXabNm1kwIABIiLSuHFjsdlsMnDgQBERh/cw37x5U0JDQyUuLk67xuXLl8XX11dGjx5tz65fvy4TJkyQatWqiY+Pj1SoUEGeffZZuX79eo58HcibFi5cKDabTfr27evW6548eVLi4uKkfPny4uPjI2XKlJHOnTtr9ceqVaskMjJSAgICpGjRotKpUyfZs2eP/fMzZswQm80mx44d0+7x3HPPSZEiReTChQv2zJU643ZNc+jQIftvIoODgyUuLk7S09Pd+veQGwpkwZyWliZnz56Vw4cPy2uvvSarVq2S9u3bu+363bp1kz59+oiIyGuvvSbx8fESHx8vJUuWtLfZsGGDPPXUU9K7d2955ZVX5Nq1a9K9e3c5d+6cdr2ePXtKenq6vPzyyzJo0CAREZk8ebL0799fqlevLjNnzpQRI0bIt99+K61atXIo/teuXSutWrWSy5cvy4QJE+Tll1+WixcvSrt27WTr1q1u+5qRfyil5NSpU1KiRAm3XdNqzkdGRsoPP/wgly9ftt9/48aN4uHhIUlJSfZrJCUliYeHh7Rs2VJERE6dOiUtWrSQ1atXy1NPPSWTJ0+Wa9euSUxMjCxdutRtY0f+FBcXJ0FBQeLr6ytt27aV7du3u/X648aNs//W8YUXXpD4+Hh54okntHbe3t7StWtXWbZsmdy4ccPhc8uWLZPr169L7969RUQkMzNTYmJiZMaMGRIdHS2zZs2SLl26yGuvvSa9evVy6/iRd928eVMSExOlRYsWbl882r17d1m6dKnExcXJ22+/LcOHD5fU1FQ5fvy4vU18fLx06tRJAgMDZdq0aTJ+/HjZu3evRERE2Avr2NhYsdlskpiYqN0jMTFRHnjgASlWrJiIZL3OiI2NldTUVJkyZYrExsbK/PnzZdKkSW79e8gVqgB64oknlIgoEVEeHh6qR48e6vz58269x/Tp05WIqKNHj2qfExFVpEgRdejQIXv2ww8/KBFRs2bNsmcTJkxQIqL69Onj0D8lJUV5enqqyZMnO+Q//vij8vLysueZmZmqevXqKioqSmVmZtrbpaenqypVqqj777/fHV8q8pn4+HglImru3Lluva6zOb9t2zYlIurLL79USim1e/duJSKqZ8+eqmnTpvZ2MTExqkGDBvaPR4wYoUREJSUl2bPU1FRVpUoVVblyZZWRkeHW8SN/2Lhxo+revbuaO3euWr58uZoyZYoqXry48vX1VTt27HDrvebNm6dERG3bts0hHzBggKpUqZL949WrVysRUStWrHBo9+CDD6qqVavaP46Pj1ceHh4Oc1oppd555x0lImrjxo1uHT/yphUrVigRUW+//bZbr3vhwgUlImr69OlO26SmpqqQkBA1aNAgh/zkyZMqODjYIW/evLlq2LChQ7utW7cqEVEfffSRUiprdcbtmubRRx91uGbXrl1V8eLFs/4F5zEF8gnziBEjZM2aNfLhhx9Kx44dJSMjQ3sykNPuu+8+CQsLs3989913S1BQkBw5ckRrO2TIEIePP/vsM8nMzJTY2Fg5e/as/c9dd90l1atXl3Xr1omIyK5du+TgwYPSt29fOXfunL1dWlqatG/fXr777jsWrhQy+/btk6efflqaN29u/3VzTmvQoIEEBgbKd999JyJ/PEkuX7689O/fX3bs2CHp6emilJINGzZIZGSkvd+XX34pTZo0cXgbUmBgoAwePFhSUlJk7969d2T8yFtatGghixcvlkcffVRiYmJk7NixkpycLDabTZ577rlcGVO7du2kRIkSkpCQYM8uXLgga9ascXhy/Omnn0rt2rWlVq1aDq/d7dq1ExGxv3ajYFu4cKF4e3tLbGysW6/r5+cnRYoUkfXr1zu8XeLP1qxZIxcvXpQ+ffo4zEFPT09p2rSpwxzs1auXfP/993L48GF7lpCQID4+PtK5c2cR+Wd1xl9rmsjISDl37pz9t5D5VYFa9HdbrVq1pFatWiIi0r9/f3nggQckOjra/h5Kk6tXr8qlS5ccsrvuuusfj6FixYpaVqxYMeMkr1KlisPHBw8eFKWUVK9e3Xjt2wtSDh48KCJiWRhdunTJ/msVFGwnT56UTp06SXBwsCxevFg8PT0t27trznt6ekrz5s3tb79ISkqSyMhIiYiIkIyMDElOTpbSpUvL+fPnHQrmY8eOSdOmTbXr1a5d2/55d+7ygfyrWrVq0rlzZ/nss88kIyPD6dy+cuWKXLlyxf6xp6enw1vl/ikvLy/p3r27LFy4UK5fvy4+Pj7y2Wefyc2bNx0K5oMHD8rPP//s9J63Fxmi4Lpy5YosX75coqKipHjx4i61d3XO+vj4yLRp02TUqFFSunRpadasmTz00EPSv39/+2v37brg9j/S/iooKMj+3z179pRnnnlGEhIS5PnnnxellHz66afSsWNHe7t/Umf8tf65/bkLFy443D+/KZAF81/16NFDnnjiCTlw4IDUrFnT2CYhIUFb1KGU+sf3dPaCbrqmn5+fw8eZmZn2xVGm6wQGBtrbiYhMnz5d6tevb7zf7bYo2C5duiQdO3aUixcvSlJSkpQtW/Zv+7hzzkdERNjfg5yUlCTjxo2TkJAQqVu3riQlJUnp0qVFRBwKZiArKlSoIDdu3JC0tDSnP3RnzJjh8F7JSpUqaYuh/qnevXvLu+++K6tWrZIuXbpIYmKi1KpVS+655x57m8zMTKlXr57MnDnT6deAgm3ZsmVZ2h0jq3N2xIgREh0dLcuWLZPVq1fL+PHjZcqUKbJ27Vpp0KCBvS6Ij483PgDx8vp/ZV/ZsmUlMjJSEhMT5fnnn5fk5GQ5fvy4TJs2zd7mn9QZWal/8pNCUTBfvXpVRER7mvZnUVFRsmbNGpev6exJtTuEhYWJUkqqVKkiNWrUsGwn8se/GP+6ByQKj2vXrkl0dLQcOHBAvvnmG6lTp45L/dw55yMjI+XGjRuyaNEiOXHihL0wbtWqlb1grlGjhr1wFvnjB8P+/fu1a+3bt8/+eeC2I0eOiK+vr+VDgP79+zu8xeevDyOyo1WrVlKmTBlJSEiQiIgIWbt2rYwbN86hTVhYmPzwww/Svn37HP0Zgbzr448/lsDAQImJiXGp/T+Zs2FhYTJq1CgZNWqUHDx4UOrXry+vvvqqLFiwwF4XlCpVyqW6oFevXvLUU0/J/v37JSEhQfz9/SU6OtrhXiLUGSJSsBb9nTp1Sstu3Lih7r33XuXn56dSU1Pddq85c+YoEVE7d+7UPici6umnn9bySpUqqQEDBtg/vv0G+TNnzji0O3TokPL09FR9+/Z1eJO9Un+8Af/s2bNKKaUyMjJUWFiYql69uvFrO3369D/4ypCf3Lp1S8XExCgvLy+1cuXKHL2X1ZxPS0tT3t7eqmbNmio0NNQ+bxMSElRAQIAqV66ceuyxxxz63F70t2nTJnt25coVVbVqVRb9FWKm161du3Ypb29vFRMT49Z7ubro77Zhw4apgIAANXPmTCUiau/evQ6fnz9/vhIR9e6772p909PT1ZUrV9w6fuQtp0+fVl5eXuqRRx7JkeunpaWpq1evOmQZGRmqdOnSqkePHkoppS5duqSCgoJU69at1Y0bN4xj/LNTp04pT09PNWHCBFW2bFkVGxurXd/VOsNZTXP7+8y0SUJ+UqCeMD/xxBNy+fJladWqlZQrV05OnjwpH3/8sezbt09effVVt749oWHDhiLyx9ZEvXv3Fm9vb4mOjnbLoSNhYWHy0ksvyXPPPScpKSnSpUsXKVq0qBw9elSWLl0qgwcPltGjR4uHh4d88MEH0rFjRwkPD5e4uDgpV66cnDhxQtatWydBQUE5ciw48o5Ro0bJ559/LtHR0XL+/HntoJJ+/fq57V5Wc97f318aNmwoycnJ9j2YRf54KpeWliZpaWna2zHGjh0rixYtko4dO8rw4cMlNDRUPvzwQzl69KgsWbJEPDwK5Jpk/I1evXqJn5+ftGjRQkqVKiV79+6V9957T/z9/WXq1Km5PrZZs2bJhAkTpF69evb329/2yCOPSGJiogwZMkTWrVsnLVu2lIyMDNm3b58kJibK6tWrpVGjRrk0euS0hIQEuXXrVo4dVnLgwAFp3769xMbGSp06dcTLy0uWLl0qp06dsm9tGBQUJHPmzJFHHnlE7r33Xundu7eULFlSjh8/LitXrpSWLVvK7Nmz7dcsVaqUtG3bVmbOnCmpqana9ofUGX+S2xW7Oy1atEjdd999qnTp0srLy0sVK1ZM3XfffWr58uU5cr8XX3xRlStXTnl4eDj860my+YT5tiVLlqiIiAgVEBCgAgICVK1atdTTTz+t9u/f79Bu586dqlu3bqp48eLKx8dHVapUScXGxqpvv/3WbV8r8qbWrVvbt1A0/XE3Z3NeKaXGjBmjRERNmzbNoU+1atWUiKjDhw9r1zt8+LDq0aOHCgkJUb6+vqpJkybqiy++cPu4kX+88cYbqkmTJio0NFR5eXmpMmXKqH79+qmDBw+6/V5ZfcKcmZmpKlSooEREvfTSS8Zr3rhxQ02bNk2Fh4crHx8fVaxYMdWwYUM1adIkdenSJbd/Dcg7mjVrpkqVKqVu3bqVI9c/e/asevrpp1WtWrVUQECACg4OVk2bNlWJiYla23Xr1qmoqCgVHBysfH19VVhYmBo4cKDavn271vb9999XIqKKFi2qPcG+zZU6o6A/YbYplc/fhQ0AAADkIH7nCQAAAFigYAYAAAAsUDADAAAAFiiYAQAAAAsUzAAAAIAFCmYAAADAAgUzAAAAYMHlk/5un9wFuFtubgXOvEZOYV6jIGJeoyByZV7zhBkAAACwQMEMAAAAWKBgBgAAACxQMAMAAAAWKJgBAAAACxTMAAAAgAUKZgAAAMACBTMAAABggYIZAAAAsEDBDAAAAFigYAYAAAAsUDADAAAAFiiYAQAAAAsUzAAAAIAFCmYAAADAAgUzAAAAYIGCGQAAALBAwQwAAABYoGAGAAAALFAwAwAAABYomAEAAAALFMwAAACABQpmAAAAwAIFMwAAAGCBghkAAACwQMEMAAAAWPDK7QHktq5du2rZ3LlzjW1DQkK0zGazadnevXuN/Z999lktW7ly5d+MEAVZbGysMVdKaVliYqKxbWZmppZ5eOj/Fja1y0pb01wXMY81u21N7UREWrZsqWXJycnGtoC7mX4GiIh07txZywIDA7Xs4YcfdvleX3/9tTGfOXOmll2+fNnl6wL4Z3jCDAAAAFigYAYAAAAsUDADAAAAFiiYAQAAAAs25Wx1zV8bOlnEk9t8fHy0rFKlSsa2H3zwgZa1aNFCy0yLoNxh3759WtaoUSNj2/T09BwZQ17k4hTMEbk9rzMyMoy5qwv5stI2u4v+snv/rLR1NtbffvtNy3r16mVsm9uLAQvzvM5PfH19jfkDDzygZYsWLTK29fPzy9YYsrLw9cqVK1o2bNgwLfvwww+zNSZnmNcoiFyZ1zxhBgAAACxQMAMAAAAWKJgBAAAACxTMAAAAgAUKZgAAAMBCvj8au2HDhlq2YcOGbF3z+vXrxvzTTz/VsmLFimlZp06djP1r1aqlZc5WVxemXTIKsy1bthjzpk2bapmzFeKmXSYWL16sZc5WAZt2itm0aZPL92/WrJmWVahQwdjWNFbTdZ3tsmG6bvny5Y1tAVc899xzxnz8+PF3bAxZ2XnCdOT26NGjtcy0o4yIyJo1a1wfWD4WHR2tZdWqVTO2/f7777Xsu+++c/uYkL/xhBkAAACwQMEMAAAAWKBgBgAAACxQMAMAAAAW8v2iv/79+2er/2uvvaZlU6ZMMbY9e/asltWvX1/LnC36A/4qNjbWmDs7gtfk9ddf17IlS5a43N+0aC8rx0qb+nfv3t3YdsSIEVqW3WO8c/OoXuQvffr00bKhQ4e63P/y5cvGPDU1VcvmzZunZTdv3jT2v/fee7WsUaNGxrZ33XWXloWHh2tZv379jP0Ly6K/pUuXapmnp6exren1xrTwfvXq1cb+586d07Ljx48b25o2JTAtsnY2V5B7eMIMAAAAWKBgBgAAACxQMAMAAAAWKJgBAAAACxTMAAAAgAWbcnGJubNjcXNb3bp1tcx0hLWIyPnz57WsTZs2WpaV1ammXTJ27Njhcv/mzZsbc2dHJhdEubnLQV6d1/mJaZcM06pvEfP/a9P/A2dz4sSJE1rmbKeRrOz0kROY1/mD6TVcRKRixYpatnv3bmPblJQUN47IWvv27bUsICDA5f6ff/55tu6fX+a1aUceZ7tqlStXTstKlSrl8r2y6+TJk1pm2uVDxLx7x9dff61lpl29nNm1a5cxd7ZbUUHkyrzmCTMAAABggYIZAAAAsEDBDAAAAFigYAYAAAAs5PtFf7mta9euWpaVY4lLlixpzE1HbRZU+WURSWFnWtwnIvLJJ59oWYUKFYxtTYtIsnI0dmRkpJbl9uI+Z5jXd4azr7VHjx5atnHjRi377bff3D6mgqwgzmvTAj/Tok9nC4y7devm8r3CwsJcH9gdcuDAAWNu+n+9YsUKLdu6dauxv2kDhMOHD2dxdHcGi/4AAACAbKJgBgAAACxQMAMAAAAWKJgBAAAACyz6ywLTiVCmRSR+fn7G/v/5z3+0bPLkyca2ubmw4k4riItI8rucOL0vK22dLa5ZvHixMc+LmNd3Rs+ePY15QkKClu3fv1/LhgwZ4vK9kpKSjDknot0ZBWFeN2rUSMsaN26sZTVq1DD2Dw8P17J77rnH5fsHBwdrmY+Pj8v9s8L0ffHZZ58Z2zr7Pr5TWPQHAAAAZBMFMwAAAGCBghkAAACwQMEMAAAAWKBgBgAAACywS4aB6aheEZGPP/5Yy3r16qVlV65cMfYvX768ll2+fDmLoyt4WHWdu0w7YuTEcdfO2vbp00fLnB13/euvvxrzvIh57X6VK1fWsm+//dbYtkqVKm6//+bNm4153759tez48eNaVhB2P2Je529169bVstKlSxvbmr7fgoKCtMzZrkamny3O5Pb/W3bJAAAAALKJghkAAACwQMEMAAAAWKBgBgAAACyw6M/g2WefNeZTp051qf/NmzeN+dixY7VsxYoVxraHDh1y6V4FAYtI3M+0QM+0kE9EpHnz5lqW3eOuR48ebWz72muvGfOCiHntfh07dtSylStX5sJI/l7Xrl21bPny5bkwEvdiXuOvypUrZ8xNi7RNi2FFRCpVquTWMWUVi/4AAACAbKJgBgAAACxQMAMAAAAWKJgBAAAAC4V+0d+TTz6pZW+++aaxraenp9vvf+3aNWOemJioZSNHjtSyCxcuuH1MdxqLSNxv48aNWtakSRNjW9OpfNk9vc/b2/vvhljgMa/dLzg4WMt+/vlnY9u77rpLy0xzdd68eS7f/9FHHzXmpr/v+Ph4LRswYIDL98qrmNf4q0aNGhnzbdu2admiRYuMbU2nZd5JLPoDAAAAsomCGQAAALBAwQwAAABYoGAGAAAALFAwAwAAABa8cnsAua1u3bpalpXdMK5evaplN27cMLb18tL/ugMCAoxt+/fvr2VhYWFaFh0dbex/8eJFY46Cp1mzZlrm6nHXIuaV56YdMRYvXmzsX5iOu0buunTpkpbFxMQY25q+B3788UctW79+vcv39/f3N+Z9+vTRMtP3ZcWKFY39nR0XDOQ1pu8BZzvNZGRkaNn777/v9jHdKTxhBgAAACxQMAMAAAAWKJgBAAAACxTMAAAAgIVCv+hv6dKlWla+fHlj22PHjmnZG2+8oWWHDx829i9TpoyW/fe//zW2jYqK0rKWLVtq2ZAhQ4z9p06dasxR8IwYMULLTAv8TMcCi7h+NHavXr2yPjggh23fvj1LeXY0aNDA5bbfffedlrG4D/mdaUMC0+YJIiJffPGFlq1bt87tY7pTeMIMAAAAWKBgBgAAACxQMAMAAAAWKJgBAAAACxTMAAAAgIVCv0vGN99841LmDr///ruWOTva+qWXXtKyZ599VstatGhh7G86vjI9Pf3vhog8rEKFCi7nrh53LSJy4sQJLYuNjc3i6FBYDRo0SMtMx1KLiEyaNEnLTLsP5QVvvfWWllWtWtXl/ufPn3fncIA7zrT7hWlnsCtXrhj7Dxs2zO1jyk08YQYAAAAsUDADAAAAFiiYAQAAAAsUzAAAAICFQr/oL7fdunXLmL/wwgtaZlr099BDDxn7m44xnjdvXhZHh7zkk08+MeZNmjTRsqwcjb1p0yYtS05OzuLoUFh169ZNy6Kiooxte/bsqWWRkZHGtrt27crWuEqUKKFlLVu21LLWrVsb+z/88MNaVqRIEZfvf/bsWZfbAnlRSEiIlnl56WWjs40SUlJS3Dyi3MUTZgAAAMACBTMAAABggYIZAAAAsEDBDAAAAFhg0V8B5exUOORfzk5PMy3wy8pJf6ZT/X755RctGzNmzN8NEYVQyZIlXW4bEBCgZc4WDO3cuVPL6tSp4/K9fHx8tCw0NNTl/llhWpD76quv5si9AHcrU6aMMR8/fryWHThwQMs6derk9jHlRTxhBgAAACxQMAMAAAAWKJgBAAAACxTMAAAAgAUKZgAAAMACu2QYVKxY0ZgfP378jo2hXbt22er/9ddfu2kkyCtMu2GImI+8Nu2I4exobFPbESNGaJmz7wvTuHr37m1si4JnwYIFWmbaoUJEJDw8XMuc7VzRvn377A0sm06cOKFlzzzzjLHtunXrtMzZ9xuQ15i+L0VEHnjgAS374IMPcno4eRZPmAEAAAALFMwAAACABQpmAAAAwAIFMwAAAGDBppytJPprQ8NRuwVBly5dtGz+/PnGtl9++aWWPf7441p29epVY3/TX3WJEiWMbbdu3apllStX1rKUlBRj/3vuuUfLUlNTjW1zm4tTMEfkp3ndrFkzY56QkKBlpqPRnf09m/4OXD1u2x1ts7JA8NNPP3W5bW4rzPP64YcfNubvvPOOy9cwLUb18/Nzuf+NGze0zLRA8eDBg8b+8+bN07LTp0+7fP+CqjDP64Jq9+7dxrxSpUpaVrduXS375Zdf3D6mO82Vec0TZgAAAMACBTMAAABggYIZAAAAsEDBDAAAAFigYAYAAAAsFPpdMt566y0te/LJJ7N1zZUrVxrz77//Xst69uxpbFu7dm2X7jVw4EBj/tFHH7nUPy9g1XX2mHbP6N69u5aZjrsWcf0YbVO7nGrr7Fjhzz77TMuyu/tHTh3jzbzOHn9/fy3r0aOHy/2/++47LXO2qxBcx7zO3zp27Khlph3ARMy72mS3Psqr2CUDAAAAyCYKZgAAAMACBTMAAABggYIZAAAAsFDoF/1Vq1ZNy15++WVj26wsOMku06KnyZMna9kLL7xg7J+RkeH2MeUUFpHkLtPR2qb/J7Gxscb+OXGMdnYX8mWl7YkTJ4z9TV9vcnKysa0J8xoFEfM6fzMd+e5s84BHH33Upf4FAYv+AAAAgGyiYAYAAAAsUDADAAAAFiiYAQAAAAuFftGfibe3tzE3nQjWpk0bLevcubOxf2hoqJZ9/PHHxraLFy/WsuXLlxvb5ncsIskfnC16ze6iv8TERC1zdtJfVk4FNC3Qe/3117XM2aK/rCzwM2FeoyBiXucPzk5b3bx5s5Y1adLE2NZ0YrDpJOP//e9/xv6nTp2yGmKewqI/AAAAIJsomAEAAAALFMwAAACABQpmAAAAwAIFMwAAAGCBXTKQ61h1jYKIeY2CiHmdv02ZMkXLxo4da2x75coVLbt48aKW9enTx9h/w4YNWRtcLmKXDAAAACCbKJgBAAAACxTMAAAAgAUKZgAAAMACi/6Q61hEgoKIeY2CiHmdv911111a1qhRI2PbNWvWaNn169fdPqa8gEV/AAAAQDZRMAMAAAAWKJgBAAAACxTMAAAAgAUKZgAAAMACu2Qg17HqGgUR8xoFEfMaBRG7ZAAAAADZRMEMAAAAWKBgBgAAACxQMAMAAAAWXF70BwAAABRGPGEGAAAALFAwAwAAABYomAEAAAALFMwAAACABQpmAAAAwAIFMwAAAGCBghkAAACwQMGcQ7766iupX7+++Pr6is1mk4sXL8rAgQOlcuXKuT00AAAAuzZt2kibNm1yexh5WqEpmNevXy82m834Jzk52a33OnfunMTGxoqfn5+89dZbEh8fLwEBAW69ByAism3bNhk6dKiEh4dLQECAVKxYUWJjY+XAgQNuv9emTZtk4sSJcvHiRbdfG4XDwIEDnb4O22w2OXHiRG4PEbijduzYITExMRIaGir+/v5St25defPNN3N7WDAoNCf9rV+/Xtq2bSvDhw+Xxo0bO3yuQ4cOUqJECbfd66uvvpKOHTvKmjVr5L777rPnN2/elMzMTPHx8XHbvVC49ejRQzZu3Cg9e/aUu+++W06ePCmzZ8+WK1euSHJystStW9dt95oxY4aMGTNGjh49ym9K8I9s3rxZDh8+7JAppWTIkCFSuXJl2bNnTy6NDLjzvv76a4mOjpYGDRpIr169JDAwUA4fPiyZmZnyyiuv3NGx3LhxQ0REihQpckfvm5945fYA7rTIyEjp0aNHjt7j9OnTIiISEhLikHt7e+fofVH4PPPMM7Jw4UKHF7levXpJvXr1ZOrUqbJgwYJcHB3gqHnz5tK8eXOHbMOGDZKeni4PP/xwLo0KuPMuX74s/fv3l06dOsnixYvFwyN3f+FPofz3Cs1bMv4sNTVVbt26lSPXbtOmjQwYMEBERBo3biw2m00GDhwoIuLwHuabN29KaGioxMXFade4fPmy+Pr6yujRo+3Z9evXZcKECVKtWjXx8fGRChUqyLPPPivXr1/Pka8D+UOLFi20F7rq1atLeHi4/Pzzz267z8SJE2XMmDEiIlKlShX7r9BTUlKkW7ducu+99zq0j46OFpvNJp9//rk927Jli9hsNlm1apU9O3LkiPTs2dP+68hmzZrJypUr3TZu5H0LFy4Um80mffv2det1T548KXFxcVK+fHnx8fGRMmXKSOfOnSUlJcWh3apVqyQyMlICAgKkaNGi0qlTJ4cn3TNmzBCbzSbHjh3T7vHcc89JkSJF5MKFC/Zsy5Yt0qFDBwkODhZ/f39p3bq1bNy40aHfxIkTxWazyaFDh2TgwIESEhIiwcHBEhcXJ+np6W79e0DetHDhQjl16pRMnjxZPDw8JC0tTTIzM3PkXq58L/z1PcwDBgwQX19f7edIVFSUFCtWTH777bccGWteVugK5ri4OAkKChJfX19p27atbN++3a3XHzdunAwePFhERF544QWJj4+XJ554Qmvn7e0tXbt2lWXLltl/FXLbsmXL5Pr169K7d28REcnMzJSYmBiZMWOGREdHy6xZs6RLly7y2muvSa9evdw6fuR/Sik5deqUW99m1K1bN+nTp4+IiLz22msSHx8v8fHxUrJkSYmMjJQffvhBLl++bL//xo0bxcPDQ5KSkuzXSEpKEg8PD2nZsqWIiJw6dUpatGghq1evlqeeekomT54s165dk5iYGFm6dKnbxo686+bNm5KYmCgtWrRw+9t8unfvLkuXLpW4uDh5++23Zfjw4ZKamirHjx+3t4mPj5dOnTpJYGCgTJs2TcaPHy979+6ViIgIezERGxsrNptNEhMTtXskJibKAw88IMWKFRMRkbVr10qrVq3k8uXLMmHCBHn55Zfl4sWL0q5dO9m6davWPzY2VlJTU2XKlCkSGxsr8+fPl0mTJrn17wF50zfffCNBQUFy4sQJqVmzpgQGBkpQUJA8+eSTcu3aNbfey5Xvhb964403pGTJkjJgwADJyMgQEZF3331Xvv76a5k1a5aULVvWrWPMF1QhsXHjRtW9e3c1d+5ctXz5cjVlyhRVvHhx5evrq3bs2OHWe82bN0+JiNq2bZtDPmDAAFWpUiX7x6tXr1YiolasWOHQ7sEHH1RVq1a1fxwfH688PDxUUlKSQ7t33nlHiYjauHGjW8eP/C0+Pl6JiJo7d65brzt9+nQlIuro0aMO+bZt25SIqC+//FIppdTu3buViKiePXuqpk2b2tvFxMSoBg0a2D8eMWKEEhGHeZ2amqqqVKmiKleurDIyMtw6fuQ9K1asUCKi3n77bbde98KFC0pE1PTp0522SU1NVSEhIWrQoEEO+cmTJ1VwcLBD3rx5c9WwYUOHdlu3blUioj766COllFKZmZmqevXqKioqSmVmZtrbpaenqypVqqj777/fnk2YMEGJiHr00Ucdrtm1a1dVvHjxrH/ByHfuvvtu5e/vr/z9/dWwYcPUkiVL1LBhw5SIqN69e7vtPq58LyilVOvWrVXr1q0dsts1yksvvaSOHDmiAgMDVZcuXdw2tvym0BTMJgcPHlR+fn4qKirKrdd1tWC+efOmKlGihOrXr589O3/+vPL29lbPPfecPYuJiVHh4eHqzJkzDn8OHDhgn8yAUkr9/PPPKigoSDVv3lzdunXLrdd2VjDfunVLBQYGqrFjxyqllHrrrbdU+fLl1YoVK5S3t7dKS0tTmZmZKjQ0VA0fPtzer0aNGqpJkybafaZMmaJERP34449uHT/ynj59+ihvb2919uxZt1732rVrqkiRIqpTp07q/PnzxjafffaZEhG1du1a7bX1gQceUNWqVbO3ff3115WIqEOHDtmzUaNGKR8fH3Xp0iWllFI7duxQIqI+/PBD7XqPP/648vHxsf8j8HbBvHXrVocxzZw5U4mI/ZoouKpWrapERA0ZMsQhf+KJJ5SIqAMHDrjlPq58LyhlLphvj6dIkSKqfv36qkSJEurUqVNuGVd+VOjekvFn1apVk86dO8u6devsv3IwuXLlipw8edL+58yZM265v5eXl3Tv3l2WL19ufy/yZ599Jjdv3nR4q8XBgwdlz549UrJkSYc/NWrUEJH/t8gQhdvJkyelU6dOEhwcLIsXLxZPT0/L9levXnWY1ydPnvxH9/X09JTmzZvb336RlJQkkZGREhERIRkZGZKcnCx79+6V8+fPS2RkpL3fsWPHpGbNmtr1ateubf88Cq4rV67I8uXLJSoqSooXL+5Se1dfh318fGTatGmyatUqKV26tLRq1UpeeeUVhzl+8OBBERFp166d9tr69ddfO7yu9uzZUzw8PCQhIUFE/njb0aeffiodO3aUoKAgh+sNGDBAu94HH3wg169fl0uXLjmMs2LFig4f335rx5/fE42Cyc/PT0TE/la3226/l3/z5s1O+7r7e8HKjBkzJDQ0VHbt2iVvvvmmlCpVyqV+BVGhLphFRCpUqCA3btyQtLQ0p21mzJghZcqUsf/567Z02dG7d29JTU21L4RKTEyUWrVqyT333GNvk5mZKfXq1ZM1a9YY/zz11FNuGw/yp0uXLknHjh3l4sWL8tVXX7n0/rKEhASHeV2mTJl/fP+IiAjZtm2bXLt2zV4wh4SESN26dSUpKcleTP+5YEbhtmzZsiztjpHV1+ERI0bIgQMHZMqUKeLr6yvjx4+X2rVry86dO0VE7Aus4uPjja+ry5cvt1+rbNmyEhkZaX8fc3Jyshw/ftzhwcbt602fPt3pa3VgYKDDGJ39o1YVjt1eC7Xbr9GlS5d2yG8XpFb/aHL394KVnTt32v/x+OOPP/5t+4Ks0G0r91dHjhwRX19f7YXsz/r37y8RERH2j2//y9AdWrVqJWXKlJGEhASJiIiQtWvXyrhx4xzahIWFyQ8//CDt27cXm83mtnujYLh27ZpER0fLgQMH5JtvvpE6deq41C8qKkrWrFnj8n2s5l5kZKTcuHFDFi1aJCdOnLAXxq1atZKkpCQpXbq01KhRw+GHQ6VKlWT//v3atfbt22f/PAqujz/+WAIDAyUmJsal9v/kdTgsLExGjRolo0aNkoMHD0r9+vXl1VdflQULFkhYWJiI/FGg/Hm/fGd69eolTz31lOzfv18SEhLE399foqOjHe4lIhIUFOTS9VC4NWzYUNasWWNf9Hfb7d0nSpYs6bSvu78XnElLS5O4uDipU6eOtGjRQl555RXp2rWrWx8a5iu5/Z6QO+X06dNatmvXLuXt7a1iYmLcei9X38N827Bhw1RAQID9/Wt79+51+Pz8+fOViKh3331X65uenq6uXLni1vEj/7h165aKiYlRXl5eauXKlTl6rzlz5igRUTt37tQ+l5aWpry9vVXNmjVVaGiofdFTQkKCCggIUOXKlVOPPfaYQ5/bi/42bdpkz65cuaKqVq3Kor8C7vTp08rLy0s98sgjOXL9tLQ0dfXqVYcsIyNDlS5dWvXo0UMppdSlS5dUUFCQat26tbpx44ZxjH926tQp5enpqSZMmKDKli2rYmNjteuHhYWp6tWrq9TUVMvr3X4P85kzZxza3P7Z8dd1Aih4br/nvW/fvg55nz59lJeXlzpx4oRb7uPK94JS5vcwP/3008rb21t9//336sqVKyosLEzVrl1bXbt2zS1jy28KzRPmXr16iZ+fn7Ro0UJKlSole/fulffee0/8/f1l6tSpuT62WbNmyYQJE6RevXr293De9sgjj0hiYqIMGTJE1q1bJy1btpSMjAzZt2+fJCYmyurVq6VRo0a5NHrkplGjRsnnn38u0dHRcv78ee1pQb9+/dx2r4YNG4rIH1sn9u7dW7y9vSU6OloCAgLE399fGjZsKMnJyfY9mEX+eMKclpYmaWlp2tsxxo4dK4sWLZKOHTvK8OHDJTQ0VD788EM5evSoLFmyJNc38kfOSUhIkFu3buXYYSUHDhyQ9u3bS2xsrNSpU0e8vLxk6dKlcurUKft2nUFBQTJnzhx55JFH5N5775XevXtLyZIl5fjx47Jy5Upp2bKlzJ49237NUqVKSdu2bWXmzJmSmpqqbenp4eEhH3zwgXTs2FHCw8MlLi5OypUrJydOnJB169ZJUFCQrFixIke+XuQ/DRo0kEcffVT++9//yq1bt6R169ayfv16+fTTT+W5555z27ZtrnwvmKxdu1befvttmTBhgn2f/Xnz5kmbNm1k/Pjxd/wkwjwhtyv2O+WNN95QTZo0UaGhocrLy0uVKVNG9evXTx08eNDt98rqE+bMzExVoUIFyx0vbty4oaZNm6bCw8OVj4+PKlasmGrYsKGaNGkSK6oLsdatWysRcfrH3V588UVVrlw55eHhoT0JGzNmjBIRNW3aNIc+1apVUyKiDh8+rF3v8OHDqkePHiokJET5+vqqJk2aqC+++MLt40be0qxZM1WqVCm37+Ry29mzZ9XTTz+tatWqpQICAlRwcLBq2rSpSkxM1NquW7dORUVFqeDgYOXr66vCwsLUwIED1fbt27W277//vhIRVbRoUe2p3W07d+5U3bp1U8WLF1c+Pj6qUqVKKjY2Vn377bf2NjxhhlJ//FyfOHGiqlSpkvL29lbVqlVTr732mlvv4er3wp+fMF++fFlVqlRJ3XvvvermzZsO7UaOHKk8PDzU5s2b3TrO/MCmFKsLAAAAAGf4nScAAABggYIZAAAAsEDBDAAAAFigYAYAAAAsUDADAAAAFiiYAQAAAAsUzAAAAIAFl0/6u31yF+BuubkVOPMaOYV5jYKIeY2CyJV5zRNmAAAAwAIFMwAAAGCBghkAAACwQMEMAAAAWKBgBgAAACxQMAMAAAAWKJgBAAAACxTMAAAAgAUKZgAAAMCCyyf9AQAAoHDw8fHRsv3792vZuXPnjP179eqlZYcOHcr+wHIJT5gBAAAACxTMAAAAgAUKZgAAAMACBTMAAABggUV/AAAAcDBlyhQtq1SpkkuZiEiJEiW0jEV/AAAAQAFFwQwAAABYoGAGAAAALFAwAwAAABYomAEAAAAL7JIBAABQSFWuXNmYP/744y71/9///mfMf/755386pDyJJ8wAAACABQpmAAAAwAIFMwAAAGCBghkAAACwwKI/IJ8LDAzUsn/9619a5u/v7/I1f//9dy378MMPjW3PnDnj8nUBAHnLwoULjXnRokVd6v+f//zHmF+6dOkfjykv4gkzAAAAYIGCGQAAALBAwQwAAABYoGAGAAAALLDoD8jnZs+erWX9+/d3+32GDh1qzNu0aaNlKSkpbr8/AMA1Hh7m56HPPvusljVt2tTl6/70009atnPnTtcHlo/xhBkAAACwQMEMAAAAWKBgBgAAACxQMAMAAAAWKJgBAAAAC+yScQfVqlVLyy5evGhse/LkyRwezf/j7e2tZVWqVNGyAwcO3InhIIu++eYbLYuIiNAyHx8fl69ZvHhxLatYsaKx7aJFi7SsdevWxrY3btxweQyAu5UpU0bLgoKCjG0HDRqkZc6+h+rUqaNlJUqU0LLQ0FBj/yZNmmiZ6Xh6wFWdO3c25lOmTHH5GhkZGVpm+r5ITU11fWD5GE+YAQAAAAsUzAAAAIAFCmYAAADAAgUzAAAAYMGmlFIuNbTZcnos+VKHDh207NFHHzW27dSpk5Y5O0J41apV2RpXVFSUloWEhBjbmo7Q9PX11bJq1aoZ+1+4cCFrg/sLF6dgjmBemw0YMEDL5s+fb2xr+v/XvXt3Y9ulS5dma1z5CfPa/YKDg7WsVatWLvcfOXKklpmOdr/T6tWrp2V79uzJhZH8PeZ13tO+fXstW7NmjbFtVv4OExMTtaxXr16uDywfcWVe84QZAAAAsEDBDAAAAFigYAYAAAAsUDADAAAAFiiYAQAAAAscjW1gOipaROShhx7SsldeeUXLqlatauxvWp1qOi7bKs9NGzduNOamY2GRv5l2b8nK6vguXboY82XLlmXrusjfJk+erGVNmzY1tj116pSWmXa0MB137czJkye1bObMmca2W7Zs0bJt27YZ28bGxmrZ1KlTtWzz5s3G/gcPHjTmwF/VrVtXyz7++GMty8puGAkJCcY8Li7O9YEVAjxhBgAAACxQMAMAAAAWKJgBAAAACxTMAAAAgIVCv+ivWLFiWvbCCy8Y2z711FNuv/+mTZuM+U8//aRlpoUlzo67Nrl165YxP3bsmEv9x48f7/K9ULiVL1/emJsWorDor3CrX7++MT9z5oyWnT9/3qVMRGTu3LlaZnqtc8dx7a7O4a+++sqY37hxI9tjQMFSo0YNYz5//nwtK126tMvXNS18HTRokLHt1atXXb5uYcATZgAAAMACBTMAAABggYIZAAAAsEDBDAAAAFiwKRdXK2Tl1Ji86sknn9Sy5557TsvKlSuXrft8/fXXxvyDDz7QMmcLTjIzM7WsQoUKWpaVN/vfvHnTmP/www8uXyMn5Oair4Iwr7MrMDBQy0wn8rVr187laz7wwAPG/JtvvnH5Gvkd81oXEBCgZc5O6vvll1+07Pr1624fU1aYTlkTMS/e9vLS19S3bdvW2N90qmBexbx2P9PP9rffftvY1nTisMm1a9eMeYMGDbRs3759Ll2zIHNlXvOEGQAAALBAwQwAAABYoGAGAAAALFAwAwAAABYomAEAAAALBfJo7OLFixvzIUOGaFl2d8QwuXLlijFfsmRJtq5rWjVuygDTvH7ssceMbceMGaNlpt0MTp8+bez//fffa9muXbv+ZoQojNLS0rTs0KFDuTCSv2fakcH0vSJi3mnG9Hqfn3bDQM7w9vbWsgULFmhZq1atXL7mb7/9pmV9+/Y1tj1+/LiW/fe//zW2vffee126/9ChQ435hg0bXOqfX/CEGQAAALBAwQwAAABYoGAGAAAALFAwAwAAABYK1dHYERERWjZo0CAt69evX47cf+LEiVr24osv5si98hOOWnVNcHCwMX/22We1LC4uTsvuuusul+918uRJLevQoYOx7e7du12+bmHCvM7f+vTpo2Uff/yxy/1NCwHT09OzNaa8gHmdPe+++66WDR482OX+ptdm05Hrzo5hHz9+vJY5O57eVZs3bzbmpmO8z58/n6175RSOxgYAAACyiYIZAAAAsEDBDAAAAFigYAYAAAAsFMiT/pwxnTrz9NNPa5mzU8rOnTunZaaFHU2bNjX2N52aU7VqVWPbI0eOGHMULM5Ompw7d66WtW/f3tjW09MzW2NYuXKllnXt2lXLbt26la37APmJaXGUM6+//rqWXb9+3Y2jQX4TFBRkzB944AGX+mdkZBjzN998U8uio6O1bMqUKcb+pp8Xp06dMrY1nUwZExOjZc2bNzf2N9VCq1atMrbND3jCDAAAAFigYAYAAAAsUDADAAAAFiiYAQAAAAsUzAAAAICFQrVLhsnYsWO17PHHHze2DQsL07ILFy5oWbNmzYz9u3TpomXOduSYNGmSMUfB8vnnnxvzBg0aZOu6P/74o5a9+uqrxrbfffedlrEjBgqLRx55xJjXrFlTy3755Rdj2+nTp2uZs10OUDgsWLDAmFeuXNml/vPnzzfmHh76c85XXnnF1WHJ4cOHtczZDky///67lu3du1fLTLWRiHm3JXbJAAAAAAooCmYAAADAAgUzAAAAYIGCGQAAALBQ6Bf91apVS8vuvvtuY9uWLVtqWbFixbRMKWXsv3v3bi07ceLE3w0RBdj58+dz5Lo1atTQso4dOxrb7tixQ8tMC1MuX75s7J9TXwNwJwwdOtSY22w2Ldu6dauxrWlxFAqPtm3bupQ5Y1p4/f777xvbLl261KVrXr161Zi3adNGy3799VdjWx8fH5eywoInzAAAAIAFCmYAAADAAgUzAAAAYIGCGQAAALBAwQwAAABYsClnWzr8taFhxfCd1KNHD2NetGhRLTMd/SgikpKSomUXL17UsvT0dGP/qKgoLXvvvfe07K677jL279atm5YtX77c2LYwcXEK5ojcntdBQUHGvHfv3lr21ltvGdt6enq6dUzOHDt2zJibVng74+Wlb8yTmJioZevXrzf29/X11bJTp065fP87qTDP67yqRIkSWpacnGxsW65cOS0z7TAgIrJly5ZsjSs/YV7rUlNTtSwwMNDl/s2aNdOyhx56yNj23//+t0vXfOKJJ4z5ypUrtczZWE07dURGRmrZzZs3jf1N3y+bNm0yts1trsxrnjADAAAAFiiYAQAAAAsUzAAAAIAFCmYAAADAQp5c9Ldo0SIt69mzp7FtVsZlOvJ6z549WlakSBFj/2+//VbLWrRo4fL9H3/8cS2bN2+ey/0LKhaR6Pz9/bUsJCTE2DY6OlrLnn/+eS0LDg429ne28DA3nT171pibFjheu3bN2Pbrr7/WsmXLlmmZs0UoFy5c0LJbt24Z25owr/Oepk2batnmzZuNbVesWKFlnTt3dvuY8hvmtc70upCVxdgdOnTQMme1QZkyZVy65u7du415+fLltSw0NNSlazpj+l4REYmJicnWde8kFv0BAAAA2UTBDAAAAFigYAYAAAAsUDADAAAAFvRjt/KA8+fPa5mzN2RnZRHAxx9/rGXTpk3TspMnTxr7Z2WBn4mz6wJ/ZTpt0tkJlO+++65LmbMTKFu2bOnSmHr16mXMixUrpmVly5Y1tq1du7ZL97p+/boxN52+5syAAQNcypwxLfK9//77Xe6P3GU6VbJfv34u99++fbs7h4MC7LffftOyChUquNz/q6++cudwRMS8yYE7/PTTT1r2wgsv5Mi98hqeMAMAAAAWKJgBAAAACxTMAAAAgAUKZgAAAMACBTMAAABgIU8ejW3Stm1bY/7+++9rWZUqVXJ6OJZMx22L5Nyq1fyOo1YLHmfHbZcqVcql/pcuXTLm99xzj5alpqYa29apU0fLwsPDXbq/M6NHj3a5LfM6d5l2bzl37pzL/WvUqKFlhw4dytaYCgLmta5mzZpatnjxYmPbunXr5vRwsuzYsWPGfMmSJVo2fvx4LXO2g1N+wtHYAAAAQDZRMAMAAAAWKJgBAAAACxTMAAAAgIV8s+jPmaJFi2rZmDFjjG179uypZQEBAVpWsmRJY//Lly9r2b59+7Rs3Lhxxv4bNmww5oUdi0hQEDGvc5fpKPdFixZp2fDhw43933rrLS3Lzf+neQXz2jVFihQx5qZFc6baxLSQ0JkFCxZo2a1bt4xt165dq2WffPKJse3NmzddHkN+x6I/AAAAIJsomAEAAAALFMwAAACABQpmAAAAwAIFMwAAAGAh3++SkRPq169vzI8ePaplzo7whetYdY2CiHl9Z0RERBjzb775Rst8fHy0rGnTpsb+W7duzd7ACijmNQoidskAAAAAsomCGQAAALBAwQwAAABYoGAGAAAALHjl9gDyol27duX2EAAALihfvrwxNx1NvHv3bi378ccf3T4mAAUPT5gBAAAACxTMAAAAgAUKZgAAAMACBTMAAABggUV/AIBC4euvv9ayq1ev5sJIAOQ3PGEGAAAALFAwAwAAABYomAEAAAALFMwAAACABQpmAAAAwAK7ZAAACoXz58/n9hAA5FM8YQYAAAAsUDADAAAAFiiYAQAAAAsUzAAAAIAFFv0BAPKtAwcOGPNLly5p2fbt23N6OAAKKJ4wAwAAABYomAEAAAALFMwAAACABQpmAAAAwAIFMwAAAGDBppRSLjW02XJ6LCikXJyCOYJ5jZzCvEZBxLxGQeTKvOYJMwAAAGCBghkAAACwQMEMAAAAWKBgBgAAACy4vOgPAAAAKIx4wgwAAABYoGAGAAAALFAwAwAAABYomAEAAAALFMwAAACABQpmAAAAwAIFMwAAAGCBghkAAACwQMEMwGVfffWV1K9fX3x9fcVms8nFixdl4MCBUrly5dweGpAjbDabTJw4MbeHASCXFZqCedu2bTJ06FAJDw+XgIAAqVixosTGxsqBAwfcfq9NmzbJxIkT5eLFi26/NvBn69evF5vNZvyTnJzs1nudO3dOYmNjxc/PT9566y2Jj4+XgIAAt94Dhdv3338vHTp0kKCgIClatKg88MADsmvXrtweFmBp4MCBTl+HbTabnDhxIreHCDcoNEdj9+jRQzZu3Cg9e/aUu+++W06ePCmzZ8+WK1euSHJystStW9dt95oxY4aMGTNGjh49ypM35Kj169dL27ZtZfjw4dK4cWOHz3Xo0EFKlCjhtnt99dVX0rFjR1mzZo3cd9999vzmzZuSmZkpPj4+brsXCp8dO3ZIy5YtpUKFCvLEE09IZmamvP3223L+/HnZunWr1KxZM1fGde3aNfHy8hIvL69cuT/yvs2bN8vhw4cdMqWUDBkyRCpXrix79uzJpZHBnQrNK8AzzzwjCxculCJFitizXr16Sb169WTq1KmyYMGCXBwdkD2RkZHSo0ePHL3H6dOnRUQkJCTEIff29s7R+6JwGD9+vPj5+cnmzZulePHiIiLSr18/qVGjhjz//POyZMmSXBmXr69vrtwX+Ufz5s2lefPmDtmGDRskPT1dHn744VwaFdyt0Lwlo0WLFg7FsohI9erVJTw8XH7++We33WfixIkyZswYERGpUqWK/VcyKSkp0q1bN7n33nsd2kdHR4vNZpPPP//cnm3ZskVsNpusWrXKnh05ckR69uwpoaGh4u/vL82aNZOVK1e6bdzI/1JTU+XWrVs5cu02bdrIgAEDRESkcePGYrPZZODAgSIiDu9hvnnzpoSGhkpcXJx2jcuXL4uvr6+MHj3anl2/fl0mTJgg1apVEx8fH6lQoYI8++yzcv369Rz5OpB3JSUlyX333WcvlkVEypQpI61bt5YvvvhCrly54rZ7DRw4UAIDA+XEiRPSpUsXCQwMlJIlS8ro0aMlIyPDoe1f38M8ceJEsdlscujQIRk4cKCEhIRIcHCwxMXFSXp6unavBQsWSMOGDcXPz09CQ0Old+/e8ssvv7jta0HetHDhQrHZbNK3b1+3XvfkyZMSFxcn5cuXFx8fHylTpox07txZUlJSHNqtWrVKIiMjJSAgQIoWLSqdOnVyeNI9Y8YMsdlscuzYMe0ezz33nBQpUkQuXLhgz7Zs2SIdOnSQ4OBg8ff3l9atW8vGjRsd+mX1eyO/KTQFs4lSSk6dOuXWX1t369ZN+vTpIyIir732msTHx0t8fLyULFlSIiMj5YcffpDLly/b779x40bx8PCQpKQk+zWSkpLEw8NDWrZsKSIip06dkhYtWsjq1avlqaeeksmTJ8u1a9ckJiZGli5d6raxI/+Ki4uToKAg8fX1lbZt28r27dvdev1x48bJ4MGDRUTkhRdekPj4eHniiSe0dt7e3tK1a1dZtmyZ3Lhxw+Fzy5Ytk+vXr0vv3r1FRCQzM1NiYmJkxowZEh0dLbNmzZIuXbrIa6+9Jr169XLr+JH3Xb9+Xfz8/LTc399fbty4IT/99JNb75eRkSFRUVFSvHhxmTFjhrRu3VpeffVVee+991zqHxsbK6mpqTJlyhSJjY2V+fPny6RJkxzaTJ48Wfr37y/Vq1eXmTNnyogRI+Tbb7+VVq1ascalALt586YkJiZKixYt3P62zO7du8vSpUslLi5O3n77bRk+fLikpqbK8ePH7W3i4+OlU6dOEhgYKNOmTZPx48fL3r17JSIiwl5Yx8bGis1mk8TERO0eiYmJ8sADD0ixYsVERGTt2rXSqlUruXz5skyYMEFefvlluXjxorRr1062bt2q9XfleyNfUoVYfHy8EhE1d+5ct153+vTpSkTU0aNHHfJt27YpEVFffvmlUkqp3bt3KxFRPXv2VE2bNrW3i4mJUQ0aNLB/PGLECCUiKikpyZ6lpqaqKlWqqMqVK6uMjAy3jh/5x8aNG1X37t3V3Llz1fLly9WUKVNU8eLFla+vr9qxY4db7zVv3jwlImrbtm0O+YABA1SlSpXsH69evVqJiFqxYoVDuwcffFBVrVrV/nF8fLzy8PBwmNdKKfXOO+8oEVEbN2506/iRt9WrV0/VqFFD3bp1y55dv35dVaxYUYmIWrx4sdvuNWDAACUi6oUXXnDIGzRooBo2bOiQiYiaMGGC/eMJEyYoEVGPPvqoQ7uuXbuq4sWL2z9OSUlRnp6eavLkyQ7tfvzxR+Xl5aXlKDhWrFihRES9/fbbbr3uhQsXlIio6dOnO22TmpqqQkJC1KBBgxzykydPquDgYIe8efPm2nzfunWrEhH10UcfKaWUyszMVNWrV1dRUVEqMzPT3i49PV1VqVJF3X///fbM1e+N/KrQPmHet2+fPP3009K8eXP7r5pzWoMGDSQwMFC+++47EfnjSXL58uWlf//+smPHDklPTxellGzYsEEiIyPt/b788ktp0qSJRERE2LPAwEAZPHiwpKSkyN69e+/I+JH3tGjRQhYvXiyPPvqoxMTEyNixYyU5OVlsNps899xzuTKmdu3aSYkSJSQhIcGeXbhwQdasWePw5PjTTz+V2rVrS61ateTs2bP2P+3atRMRkXXr1t3xsSP3PPXUU3LgwAF57LHHZO/evfLTTz9J//795ffffxcRkatXr7r9nkOGDHH4ODIyUo4cOfKP+547d87+G8TPPvtMMjMzJTY21mF+33XXXVK9enXmdwG2cOFC8fb2ltjYWLde18/PT4oUKSLr1693eLvEn61Zs0YuXrwoffr0cZh3np6e0rRpU4d516tXL/n+++8dFiwmJCSIj4+PdO7cWUREdu3aJQcPHpS+ffvKuXPn7NdLS0uT9u3by3fffSeZmZkOY/i77438qtAs+vuzkydPSqdOnSQ4OFgWL14snp6elu2vXr0qly5dcsjuuuuuLN/X09NTmjdvbn/7RVJSkkRGRkpERIRkZGRIcnKylC5dWs6fP+9QMB87dkyaNm2qXa927dr2z7tzlw/kb9WqVZPOnTvLZ599JhkZGU7n95UrVxzeF+rp6SklS5bM9v29vLyke/fusnDhQrl+/br4+PjIZ599Jjdv3nQomA8ePCg///yz03veXmSIwmHIkCHyyy+/yPTp0+XDDz8UEZFGjRrJs88+K5MnT5bAwECnff/JXPb19dXaFCtWzGkh8lcVK1bU+or88Y/DoKAgOXjwoCilpHr16sb+LJYtmK5cuSLLly+3v93Hlfauzl0fHx+ZNm2ajBo1SkqXLi3NmjWThx56SPr372+vSQ4ePCgiYn/w8FdBQUH2/+7Zs6c888wzkpCQIM8//7wopeTTTz+Vjh072tvdvp7Vg8VLly7Z57/I339v5FeFrmC+dOmSdOzYUS5evChJSUlStmzZv+2TkJCgLWJS/3A3voiICPt7kJOSkmTcuHESEhIidevWlaSkJCldurSIiEPBDGRVhQoV5MaNG5KWlub0BWrGjBkO7yurVKmStnDkn+rdu7e8++67smrVKunSpYskJiZKrVq15J577rG3yczMlHr16snMmTOdfg0oXCZPniyjR4+WPXv2SHBwsNSrV0+ef/55ERGpUaOG037/ZC7/3YOSv+Os/+2fDZmZmfbF26a2Vv8AQP61bNmyLO2OkdW5O2LECImOjpZly5bJ6tWrZfz48TJlyhRZu3atNGjQwP60Nz4+3vhg78/bI5YtW1YiIyMlMTFRnn/+eUlOTpbjx4/LtGnT7G1uX2/69OlSv35945j+Opf/7nsjvypUBfO1a9ckOjpaDhw4IN98843UqVPHpX5RUVGyZs0al+9js9mcfi4yMlJu3LghixYtkhMnTtgL41atWtkL5ho1atgLZ5E/voH279+vXWvfvn32zwN/duTIEfH19bX8ody/f3+Ht/mYFlz9U61atZIyZcpIQkKCREREyNq1a2XcuHEObcLCwuSHH36Q9u3bW37PoHApVqyYw7z85ptvpHz58lKrVi2nfXJyLv9TYWFhopSSKlWqWBb7KFg+/vhjCQwMlJiYGJfa/5O5GxYWJqNGjZJRo0bJwYMHpX79+vLqq6/KggULJCwsTERESpUq5bBfvjO9evWSp556Svbv3y8JCQni7+8v0dHRDvcS+ePJtCvXK8gKTcGckZEhvXr1ks2bN8vy5cu1PROtlClTRsqUKeNy+9unn5lWQTdt2lS8vb1l2rRpEhoaKuHh4SLyRyE9b948CQkJkQ4dOjj0efDBB+X111+XzZs328edlpYm7733nlSuXNnlwh8Fz5kzZ7Rf3/3www/y+eefS8eOHcXDw/kyhapVq0rVqlVzZFweHh7So0cP+e9//ytNmjSRW7duaTtfxMbGypdffinvv/++fQeO265evSqZmZmcJFjIJSQkyLZt22TGjBm5Npf/qW7duslzzz0nkyZNkgULFjj8o1ApJefPn3fpV/bIP86cOSPffPON9OnTR/z9/V3qk5W5m56eLh4eHg57g4eFhUnRokXtW3FGRUVJUFCQvPzyy9K2bVvtrT9//ZnRvXt3GTZsmCxatEg+/fRTeeihhxxedxs2bChhYWEyY8YM6du3r/YQxvQzqKAqNAXzqFGj5PPPP5fo6Gg5f/68dlBJv3793Havhg0bisgfW3H17t1bvL29JTo6WgICAsTf318aNmwoycnJ9j2YRf54IpeWliZpaWna2zHGjh0rixYtko4dO8rw4cMlNDRUPvzwQzl69KgsWbLE8gcJCrZevXqJn5+ftGjRQkqVKiV79+6V9957T/z9/WXq1Km5PrZZs2bJhAkTpF69evb33N/2yCOPSGJiogwZMkTWrVsnLVu2lIyMDNm3b58kJibK6tWrpVGjRrk0etxp3333nbzwwgvywAMPSPHixSU5OVnmzZsnHTp0kP/7v//L7eFlWVhYmLz00kvy3HPPSUpKinTp0kWKFi0qR48elaVLl8rgwYMd9iRH/peQkCC3bt3KscNKDhw4IO3bt5fY2FipU6eOeHl5ydKlS+XUqVP27TqDgoJkzpw58sgjj8i9994rvXv3lpIlS8rx48dl5cqV0rJlS5k9e7b9mqVKlZK2bdvKzJkzJTU1VXuw4eHhIR988IF07NhRwsPDJS4uTsqVKycnTpyQdevWSVBQkKxYsSJHvt48J/c26LizWrdurUTE6R93e/HFF1W5cuWUh4eHtsXcmDFjlIioadOmOfSpVq2aEhF1+PBh7XqHDx9WPXr0UCEhIcrX11c1adJEffHFF24fN/KXN954QzVp0kSFhoYqLy8vVaZMGdWvXz918OBBt9/L1W3lbsvMzFQVKlRQIqJeeukl4zVv3Lihpk2bpsLDw5WPj48qVqyYatiwoZo0aZK6dOmS278G5F2HDh1SDzzwgCpRooTy8fFRtWrVUlOmTFHXr193+70GDBigAgICtPz2tlh/Jk62lTtz5oxDu9vfH3/dTnTJkiUqIiJCBQQEqICAAFWrVi319NNPq/3797vt60He0KxZM1WqVCmHrRHd6ezZs+rpp59WtWrVUgEBASo4OFg1bdpUJSYmam3XrVunoqKiVHBwsPL19VVhYWFq4MCBavv27Vrb999/X4mIKlq0qLp69arx3jt37lTdunVTxYsXVz4+PqpSpUoqNjZWffvtt/Y2Wf3eyG9sSuXzd2EDAAAAOYjf5QMAAAAWKJgBAAAACxTMAAAAgAUKZgAAAMACBTMAAABggYIZAAAAsEDBDAAAAFhw+aS/Px/rCbhTbm4FzrxGTmFeoyBiXqMgcmVe84QZAAAAsEDBDAAAAFigYAYAAAAsUDADAAAAFiiYAQAAAAsUzAAAAIAFCmYAAADAAgUzAAAAYIGCGQAAALBAwQwAAABYoGAGAAAALFAwAwAAABYomAEAAAALFMwAAACABQpmAAAAwAIFMwAAAGCBghkAAACwQMEMAAAAWKBgBgAAACxQMAMAAAAWvHJ7AAAKnuLFixvziIgILevcubPL1+3du7eW+fr6GtvabDYtS01N1bLGjRsb++/fv9/lcQEACjaeMAMAAAAWKJgBAAAACxTMAAAAgAUKZgAAAMBCnlz0V7lyZS2Li4sztv33v/+dw6P5f0aOHKllSikt+/zzz439jx075vYxAXdKWFiYMX/ppZe0rE2bNsa2pUuXdueQLJm+N00LBENCQu7AaAAA+RlPmAEAAAALFMwAAACABQpmAAAAwAIFMwAAAGDBpkwrY0wNDadm5ZSOHTtq2YoVK+7Y/Z0x/R2Y/vp+//13Y//09HSXrikismfPHi17/fXXtex///ufsX9+4uIUzBF3cl7nJxUrVtSytWvXGttWrVo1p4fzj2zcuFHLFi5cqGVz5szJkfszr1EQMa+zx/Q1FClSRMvuuusuY//HHnvMpfsMGDDAmJte27Pio48+cvle+Ykr85onzAAAAIAFCmYAAADAAgUzAAAAYIGCGQAAALBAwQwAAABYyJNHY2/fvl3LVq1aZWzbqFEjLbt48aK7hyQiIsWKFdOyEiVKaFmZMmVcvqazVb+mnQfatWunZRs2bDD2HzhwoJadOXPG5XGh8DDNtXfeeceldneaaVzOvt///e9/a1lmZqa7h4RcNm7cOGNuOrLdxNnq+P/+978utzXtIPPZZ59p2fXr110aEwquIUOGaNns2bOzdU3TDlzOZOU18NatW1q2Zs0al/sXNDxhBgAAACxQMAMAAAAWKJgBAAAACxTMAAAAgIU8eTS2SUhIiDE3HfO4e/fuHBnDPffco2WRkZEu9+/WrZuWtW7d2tg2u8eP/vjjj1p2//33G9uePXs2W/fKLo5avTMef/xxYz558mQtK1mypJbdvHnT2N+0OOr8+fMujysjI0PLFixYYGx75MgRLTMtTMkLmNfZ4+GhP88ZNWqUlk2ZMsXl/neS6Wj2Nm3aGNuavgfyKuZ19pgWLg8aNEjLfv31V2P/mTNnatnSpUu1rGbNmsb+X3311d8N0S4hIUHL+vbt63L//ISjsQEAAIBsomAGAAAALFAwAwAAABYomAEAAAALFMwAAACAhXyzS0ZhU6dOHS0bM2aMlj3yyCPG/qb/X19++aWxbXR0dBZH516sunY/09Ho77//vrGtp6enlplWaDuba//73/+yNrhCgnmdPQMGDNCyefPmaVlaWpqx/8cff6xle/bs0bIuXbq4PKZmzZoZcz8/P5f6v/rqq8bc9NqeVzGvs8e045fpuGlnX2ujRo1cuo+zXbHYJcOMXTIAAACAbKJgBgAAACxQMAMAAAAWKJgBAAAAC165PQCY7d27V8tMRxg7W4iFwqNIkSJaZjpq1bS4T0QkJSVFy0wLRg4fPpz1wQH/UPfu3V1qt3jxYmM+ZMgQl/rPmjXL5TFVqFDBmD/55JNaNnbsWC0LCwtz+V4omC5evKhlzz77rJY9+OCD2bpPcHCwy23T09ON+bJly7I1hoKGJ8wAAACABQpmAAAAwAIFMwAAAGCBghkAAACwwKI/IJ8znR7WvHlzLbt165ax/3/+8x8tY4Ef7pSuXbsac9PC099//13Lnn76abePyZlffvnFmB85cuSOjQEFz7p161zKnKlVq5aWZWUx6+rVq415YmKiy9coDHjCDAAAAFigYAYAAAAsUDADAAAAFiiYAQAAAAsUzAAAAIAFdskA8okOHToY8wEDBrjUf/r06cZ8wYIF/3hMQHb179/fmPv4+GjZhg0btMzZsb45ISoqypiPHDnSpf5paWnuHA4gIuZj4EuVKuVy/zNnzrhzOAUWT5gBAAAACxTMAAAAgAUKZgAAAMACBTMAAABggUV/eVTlypW1bOnSpVpms9mM/T089H8LjRgxIrvDQi6aOnWqMQ8MDHSpv7OFSa1atdKy77//3uVx/fzzz1q2ZcsWl/sfOHBAy+7kQi7kH/v373f7NatVq2bM/+///k/LBg4caGwbEBCgZefPn9eyZ555JmuDA1xQp06dbPV/99133TSSgo0nzAAAAIAFCmYAAADAAgUzAAAAYIGCGQAAALDAor886uOPP9ay2rVra5lSyth//vz5Wnb8+PFsjwu5x7ToU0QkPDxcyzw9PbXM19fX2L9ly5YuZTllz549WtavXz9j2x9//FHLMjMz3T4m5E2NGzfWslq1arnc/1//+peW9erVy9jW2feLq65fv65lnKgG5F88YQYAAAAsUDADAAAAFiiYAQAAAAsUzAAAAIAFCmYAAADAArtk3EElS5bUspiYGGPbevXqZeteR44c0bKbN29m65rIXZMmTTLmu3bt0rJHH31Uy5zNKdMx7HeSaZePnTt3Gts+/PDDWrZo0SK3jwl5U1RUlJbt3bs3F0by9w4ePJjbQwDgRjxhBgAAACxQMAMAAAAWKJgBAAAACxTMAAAAgAUW/d1B48aN07Jhw4YZ2zo78vqvFi9ebMxffPFF1weGfG358uUuZQEBAcb+2T0C2NvbW8tMi/NERCZOnOjyuEwqVarkclvkDyNHjjTm586d07K2bdtqWZUqVVy+1y+//KJl77//vrFtp06dtKxp06bGtqmpqVrmbJEukJvOnj2rZVeuXMmFkeQ/PGEGAAAALFAwAwAAABYomAEAAAALFMwAAACABQpmAAAAwAK7ZOSAxx57zJibdsTw8DD/myUzM1PL5s6dq2WDBw/O4uhQWKWlpWUpd5WPj4+WlShRwuW2JhkZGcb8888/d31gyBdSUlKM+eOPP65lxYoV07Ks7Jxy4sQJLTtz5oyxbbVq1bTM2S4Zmzdv1rJ169a5PC7AVXXr1tWyxo0bu9x/69atWnbo0KFsjamw4AkzAAAAYIGCGQAAALBAwQwAAABYoGAGAAAALLDoL5uefPJJLZs2bZqxrem4a9PiPhGRt99+W8v+9a9/ZXF0yEtCQ0O17JVXXjG23bVrl5bNnj3b3UNyi7CwMC3L7lz997//bcz37t2bresif7tw4YJLWVaUK1fOmEdERLh8jVOnTmVrDICrLl26pGWmY+SDgoLuxHAKFZ4wAwAAABYomAEAAAALFMwAAACABQpmAAAAwEKhX/RnWvDh5+dnbPvmm29qmWlhiL+/f7bHFR4ermWffvqpy/1tNpuWmRYdiohMmDBBy7Zv3+7yveCaevXqadmjjz5qbLtgwYKcHo4l0/dFz549jW0nTZqUrXsdOHBAy954441sXRNwVXx8vDGvWrWqlt24ccPY9tVXX3XrmABnTK/NVapUyYWRFD48YQYAAAAsUDADAAAAFiiYAQAAAAsUzAAAAIAFCmYAAADAQqHfJeO9997TsqioKGPbrOw8kV2tWrXKVv+sjNW0+wdyl+n/nylzxstL/9YeOXKksW3nzp21rFatWlpWrFgxl+/v7Mj3WbNmadn48eO17Nq1ay7fC8iO4OBgl9uuXLnSmO/evdtdwwGQR/GEGQAAALBAwQwAAABYoGAGAAAALFAwAwAAABYK5KK/e+65x5g/8cQTWtahQweXr+vhof/7wtniJpPvvvtOy5wtFjEt0Dt37pyWvfjiiy7fH/nHww8/7HJb01Hu3bp1c+dwLCUlJWmZ6bh1EZH169fn8GgA9zAtsj1y5EgujARwH9PCa7iGJ8wAAACABQpmAAAAwAIFMwAAAGCBghkAAACwQMEMAAAAWMg3u2RUrlzZmK9evVrLnB11WqJECS3LytHWX3zxhZa99NJLWnb27Fljf1N+6dIll++P/M103PP58+eNbUNDQ7UsKztnZEVGRoaWmXZ0Wbx4sbH/3LlztezGjRvZHxjgZtWqVdOysLAwY1vTz4Zjx465fUzAnXT33Xdr2ddff50LI8l/eMIMAAAAWKBgBgAAACxQMAMAAAAWKJgBAAAAC/lm0d/QoUONubMFG6764YcftOz55583tjUtMARctWXLFi1r1aqVse2oUaO0bMCAAca2y5Yt0zLTYlJni1GXLl2qZcnJyca2QH4WFBTkUiZiPhp7zZo1bh8TcCexIPuf4wkzAAAAYIGCGQAAALBAwQwAAABYoGAGAAAALOSbRX979uzJ9jVMp/LNmzdPyzjNCXfK3r17jfljjz3mUgbAdZ06dXK5bVZOgQXyi/vvv1/L3nzzzVwYSf7DE2YAAADAAgUzAAAAYIGCGQAAALBAwQwAAABYoGAGAAAALNiUi0uBTceEAu6Qm6vRmdfIKczrvOeTTz7RstjYWGPbI0eOaFnjxo2NbS9cuJC9geUjzOvc5eGhP+dcvXq1llWpUsXYv3379lrGzmCuzWueMAMAAAAWKJgBAAAACxTMAAAAgAUKZgAAAMBCvjkaGwCA7AgPD3e57TvvvKNlhWlxH/KmzMxMLTMddw334wkzAAAAYIGCGQAAALBAwQwAAABYoGAGAAAALFAwAwAAABY4Ghu5jqNWURAxr1EQMa9REHE0NgAAAJBNFMwAAACABQpmAAAAwAIFMwAAAGDB5UV/AAAAQGHEE2YAAADAAgUzAAAAYIGCGQAAALBAwQwAAABYoGAGAAAALFAwAwAAABYomAEAAAALFMwAAPz/1q9fLzabTdavX/+P+y5evNj9AwNc9NVXX0n9+vXF19dXbDabXLx4MbeHVCAU+IL5+vXr8q9//UvKli0rfn5+0rRpU1mzZk1uDwtwi23btsnQoUMlPDxcAgICpGLFihIbGysHDhxw+702bdokEydO5MUXbnXw4EHp3bu3lC9fXvz9/aVWrVrywgsvSHp6em4PLUctXLhQXn/99dweBnLB5MmTxWazSd26dd1+7XPnzklsbKz4+fnJW2+9JfHx8RIQEOD2+xRGXrk9gJw2cOBAWbx4sYwYMUKqV68u8+fPlwcffFDWrVsnERERuT08IFumTZsmGzdulJ49e8rdd98tJ0+elNmzZ8u9994rycnJbn1B3rRpk0yaNEkGDhwoISEhbrsuCq9ffvlFmjRpIsHBwTJ06FAJDQ2VzZs3y4QJE+T777+X5cuX3/ExtWrVSq5evSpFihTJ0fssXLhQfvrpJxkxYkSO3gd5y6+//iovv/xyjhWx27Ztk9TUVHnxxRflvvvuy5F7FFYFumDeunWrfPLJJzJ9+nQZPXq0iIj0799f6tatK88++6xs2rQpl0fourS0NP6VCM0zzzwjCxcudPjh3qtXL6lXr55MnTpVFixYkIujA6zFx8fLxYsXZcOGDRIeHi4iIoMHD5bMzEz56KOP5MKFC1KsWLE7OiYPDw/x9fW9o/dE4TF69Ghp1qyZZGRkyNmzZ91+/dOnT4uI5MpDjVu3bklmZmaO/2MztxTot2QsXrxYPD09ZfDgwfbM19dXHnvsMdm8ebP88ssvbrnP7fetmf5UrlzZoe2qVaskMjJSAgICpGjRotKpUyfZs2ePQ5uBAwdKYGCgHD58WB588EEpWrSoPPzwwyLyR+E8atQoqVChgvj4+EjNmjVlxowZopRyy9eC/KVFixbai1P16tUlPDxcfv75Z7fdZ+LEiTJmzBgREalSpYp9fqekpEi3bt3k3nvvdWgfHR0tNptNPv/8c3u2ZcsWsdlssmrVKnt25MgR6dmzp4SGhoq/v780a9ZMVq5c6bZxI2+7fPmyiIiULl3aIS9Tpox4eHi4/Qfvvn37pEePHhIaGiq+vr7SqFEjhzkq4vw9zG+99ZZUrVpV/Pz8pEmTJpKUlCRt2rSRNm3aaPfJzMyUyZMnS/ny5cXX11fat28vhw4dsn++TZs2snLlSjl27JjTnxUoeL777jtZvHhxjr0Vp02bNjJgwAAREWncuLHYbDYZOHCg/fOffvqpNGzYUPz8/KREiRLSr18/OXHihHYN05weOHCgwxxNSUkRm80mM2bMkNdff13CwsLEx8dH9u7dmxNfWp5QoJ8w79y5U2rUqCFBQUEOeZMmTUREZNeuXVKhQoVs36d27doSHx/vkF28eFGeeeYZKVWqlD2Lj4+XAQMGSFRUlEybNk3S09Nlzpw5EhERITt37nSYjLdu3ZKoqCiJiIiQGTNmiL+/vyilJCYmRtatWyePPfaY1K9fX1avXi1jxoyREydOyGuvvZbtrwX5n1JKTp06ZX9i5w7dunWTAwcOyKJFi+S1116TEiVKiIhIyZIlJTIyUpYvXy6XL1+WoKAgUUrJxo0bxcPDQ5KSkiQmJkZERJKSksTDw0NatmwpIiKnTp2SFi1aSHp6ugwfPlyKFy8uH374ocTExMjixYula9eubhs/8qY2bdrItGnT5LHHHpNJkyZJ8eLFZdOmTTJnzhwZPny4W3+rtmfPHmnZsqWUK1dOxo4dKwEBAZKYmChdunSRJUuWWM63OXPmyNChQyUyMlJGjhwpKSkp0qVLFylWrJiUL19eaz916lTx8PCQ0aNHy6VLl+SVV16Rhx9+WLZs2SIiIuPGjZNLly7Jr7/+an/dDgwMdNvXirwnIyNDhg0bJo8//rjUq1cvR+4xbtw4qVmzprz33nvywgsvSJUqVSQsLExERObPny9xcXHSuHFjmTJlipw6dUreeOMN2bhxo+zcufMfP5GeN2+eXLt2TQYPHiw+Pj4SGhrqxq8oj1EFWHh4uGrXrp2W79mzR4mIeuedd3LkvpmZmeqhhx5SgYGBas+ePUoppVJTU1VISIgaNGiQQ9uTJ0+q4OBgh3zAgAFKRNTYsWMd2i5btkyJiHrppZcc8h49eiibzaYOHTqUI18P8pf4+HglImru3Lluve706dOViKijR4865Nu2bVMior788kullFK7d+9WIqJ69uypmjZtam8XExOjGjRoYP94xIgRSkRUUlKSPUtNTVVVqlRRlStXVhkZGW4dP/KmF198Ufn5+SkRsf8ZN26c2+/Tvn17Va9ePXXt2jV7lpmZqVq0aKGqV69uz9atW6dERK1bt04ppdT169dV8eLFVePGjdXNmzft7ebPn69ERLVu3VrrW7t2bXX9+nV7/sYbbygRUT/++KM969Spk6pUqZLbv07kTbNnz1bBwcHq9OnTSimlWrdurcLDw91+n3nz5ikRUdu2bbNnN27cUKVKlVJ169ZVV69etedffPGFEhH1n//8x561bt3aYU7fNmDAAIf5evToUSUiKigoyP41FXQF+i0ZV69eFR8fHy2//f60q1ev5sh9X3zxRfniiy9k/vz5UqdOHRERWbNmjVy8eFH69OkjZ8+etf/x9PSUpk2byrp167TrPPnkkw4ff/nll+Lp6SnDhw93yEeNGiVKKYdfdaNw2rdvnzz99NPSvHlz+6/mclqDBg0kMDBQvvvuOxH540ly+fLlpX///rJjxw5JT08XpZRs2LBBIiMj7f2+/PJLadKkicPi28DAQBk8eLCkpKQU6F/t4f+pXLmytGrVSt577z1ZsmSJPProo/Lyyy/L7Nmz3XaP8+fPy9q1ayU2NlZSU1Ptr7/nzp2TqKgoOXjwoPar6du2b98u586dk0GDBomX1//7pezDDz/s9P3VcXFxDm8nuT3vjxw54ravCfnHuXPn5D//+Y+MHz9eSpYsecfvv337djl9+rQ89dRTDu/P79Spk9SqVStbb4Pr3r17rnxNuaFAvyXDz89Prl+/ruXXrl2zf96ZK1euyJUrV+wfe3p6ujQpvvrqK5k0aZI899xz0r17d3t+8OBBERFp166dsd9f3zbi5eWl/arv2LFjUrZsWSlatKhDXrt2bfvnUXidPHlSOnXqJMHBwfb371u5evWqXLp0ySG76667snxfT09Pad68uSQlJYnIHwVzZGSkRERESEZGhiQnJ0vp0qXl/PnzDgXzsWPHpGnTptr1/jyfc2LbJeQdn3zyiQwePFgOHDhgf73r1q2bZGZmyr/+9S/p06ePFC9e3Ng3K6/Rhw4dEqWUjB8/XsaPH29sc/r0aSlXrpyW335drVatmkPu5eXl9H3HFStWdPj4dmF94cIFY3sUbP/+978lNDRUhg0bluW+/7QW+bPbc7hmzZra52rVqiUbNmzI8rhuq1Klyj/um98U6IK5TJkyxqcGv//+u4iIlC1b1mnfGTNmyKRJk+wfV6pUSVJSUizvd/ToUXn44Yfl/vvvl5deesnhc5mZmSLyx/uYTUXJn59ciIj4+PiIh0eB/gUA3OjSpUvSsWNHuXjxoiQlJVnO7dsSEhIkLi7OIVP/cPFoRESETJ48Wa5duyZJSUkybtw4CQkJkbp160pSUpJ9UdefC2bg7bfflgYNGmgPB2JiYmT+/Pmyc+dOp1tjZeU1+vbr7+jRoyUqKsrY5q8FcXY4+8fqP/3+Qv518OBBee+99+T111+X3377zZ5fu3ZNbt68KSkpKRIUFOT0vb//pBbJDpvNZpynGRkZxvZWDx4LmgJdMNevX1/WrVtnX4x02+2FF/Xr13fat3///g6/Kv67SXH16lXp1q2bhISEyKJFi7Ri9/Yb70uVKvWP90asVKmSfPPNN5KamurwlHnfvn32z6PwuXbtmkRHR8uBAwfkm2++sb8N6O9ERUVl6RAfm83m9HORkZFy48YNWbRokZw4ccJeGLdq1cpeMNeoUcNhN4RKlSrJ/v37tWsxnwuPU6dOGd/WcPPmTRH5Y/GzM1l5ja5ataqIiHh7e2f59ff2PDx06JC0bdvWnt+6dUtSUlLk7rvvztL1brP6fkLBceLECcnMzJThw4drb6cU+eMJ7f/93/853Tkjq7WIye05vH//fu233Pv373d4rS1WrJjxrUP8BlsK9qK/5ORkJSJq+vTp9uzatWuqWrVqDouR3KF///7K399f/fDDD8bPX7p0SQUFBanWrVurGzduaJ//85vmBwwYoAICArQ2txf9vfzyyw55r169WPRXSN26dUvFxMQoLy8vtXLlyhy915w5c5SIqJ07d2qfS0tLU97e3qpmzZoqNDRUZWZmKqWUSkhIUAEBAapcuXLqsccec+hze9Hfpk2b7NmVK1dU1apVWfRXSDz00EOqSJEiav/+/Q55ly5dlIeHhzpx4oTb7tWmTRsVGhqqfvvtN+1zf379dceiv08//dTh+rcXSM2bN8+e9erVS4WEhLjni0OedebMGbV06VLtT3h4uKpYsaJaunSp2r17t9vuZ7Xo7+6773ZY9Prll19qi/5Gjx6tfHx8HL4ndu3apTw8PIyL/v5cXxV0BfoJc9OmTaVnz57y3HPPyenTp6VatWry4YcfSkpKisydO9dt91m5cqV89NFH0r17d9m9e7fs3r3b/rnAwEDp0qWLBAUFyZw5c+SRRx6Re++9V3r37i0lS5aU48ePy8qVK6Vly5Z/u8glOjpa2rZtK+PGjZOUlBS555575Ouvv5bly5fLiBEj7E+xUXiMGjVKPv/8c4mOjpbz589rB5X069fPbfdq2LChiPyxdVHv3r3F29tboqOjJSAgQPz9/aVhw4aSnJxs34NZ5I8nzGlpaZKWlqa9HWPs2LGyaNEi6dixowwfPlxCQ0Plww8/lKNHj8qSJUt4S1IhMGbMGPve9EOHDpXixYvLF198IatWrZLHH3/cpbcWueqtt96SiIgIqVevngwaNEiqVq0qp06dks2bN8uvv/4qP/zwg7FfkSJFZOLEiTJs2DBp166dxMbGSkpKisyfP1/CwsL+8ZPihg0bSkJCgjzzzDPSuHFjCQwMlOjo6Ox8iciDSpQoIV26dNHy20+UTZ9zN29vb5k2bZrExcVJ69atpU+fPvZt5SpXriwjR460t3300Udl5syZEhUVJY899picPn1a3nnnHQkPD7fvm15o5XbFntOuXr2qRo8ere666y7l4+OjGjdurL766iu33uP2v+hMf/66bdC6detUVFSUCg4OVr6+viosLEwNHDhQbd++3d7G2RNmpf7YdmvkyJGqbNmyytvbW1WvXl1Nnz7d/kQPhUvr1q2dzr2c+PZ+8cUXVbly5ZSHh4e2xdyYMWOUiKhp06Y59KlWrZoSEXX48GHteocPH1Y9evRQISEhytfXVzVp0kR98cUXbh838q4tW7aojh07qrvuukt5e3urGjVqqMmTJzs8zXWXw4cPq/79+9vvVa5cOfXQQw+pxYsX29v89QnzbW+++aaqVKmS8vHxUU2aNFEbN25UDRs2VB06dND6uvKE+cqVK6pv374qJCTE+LMCBdud3FbutoSEBNWgQQPl4+OjQkND1cMPP6x+/fVXrd2CBQtU1apVVZEiRVT9+vXV6tWrnW4rV5ieMNuUYhUCAABZkZmZKSVLlpRu3brJ+++/n9vDAZDD+J0nAAAWrl27pu0c8NFHH8n58+eNxwgDKHh4wgwAgIX169fLyJEjpWfPnlK8eHHZsWOHzJ07V2rXri3ff/+9wyElAAqmAr3oDwCA7KpcubJUqFBB3nzzTTl//ryEhoZK//79ZerUqRTLQCHBE2YAAADAAu9hBgAAACxQMAMAAAAWKJgBAAAACy4v+uPce+SU3HwbPfMaOYV5jYKIeY2CyJV5zRNmAAAAwAIFMwAAAGCBghkAAACwQMEMAAAAWKBgBgAAACxQMAMAAAAWKJgBAAAACxTMAAAAgAUKZgAAAMACBTMAAABgweWjsQHkbyVKlDDmZ86c0bI333xTy8aNG2fsf+XKlewNDACAPI4nzAAAAIAFCmYAAADAAgUzAAAAYIGCGQAAALBgU0oplxrabDk9FhRSLk7BHFGY5nVoaKgx/+WXX7TMz89Py1auXGns36tXLy1LT0/P4ugKHuY1CiLmNQoiV+Y1T5gBAAAACxTMAAAAgAUKZgAAAMACBTMAAABggYIZAAAAsMAuGdnUtGlTLZs2bZqxbevWrbXsP//5j7Htiy++mL2B5SOsus5dI0eO1LKpU6dqmbe3t7H/u+++q2VPPvlk9geWzzGvURAxr3GnVK5cWctq165tbLtq1aps3YtdMgAAAIBsomAGAAAALFAwAwAAABYomAEAAAALLPrLAtNCvEGDBmlZiRIljP3ff/99LZs1a5ax7d69e7M4uvyLRSR5T3R0tJYtXLjQ2NZ0jPYTTzxhbDt37tzsDSwfYV7rNm3apGWmhdPOeHjoz3gyMzOzNaas3Kt8+fLGtidOnMiRMeRFzGvkhHvuuUfLTD8vKlSoYOxfunTpbN2fRX8AAABANlEwAwAAABYomAEAAAALFMwAAACABRb9GTRq1MiYr127Vss2b96sZf369TP2v3btmpaZFkw5c+PGDS27ePGiy/3zKhaR5A/jx4835pMmTdKyffv2GduaFnbcvHkzewPLowrzvN6yZYsxr1evnpYVKVLE5euavq6c+ns23atixYrGtiz6uzNye14j+2rVqmXMk5KStMy08LZ///7G/itXrszWuFj0BwAAAGQTBTMAAABggYIZAAAAsEDBDAAAAFigYAYAAAAsFPpdMkzHsi5fvtzY9syZM1rWsWNHLfv111+N/U1HY3fr1s3YNjg42KX7z5kzx9jfdKRkXl3Jzarr/KFatWrG3LR7jLMjhD/44AMtGzx4cPYGlkcV5nl97NgxY16uXLlsXTe3d8nYsWOHse3AgQO1bM+ePe4eUp5QmOc1sqZGjRpa9vXXXxvbli1bVss6deqkZWvWrMn+wAzYJQMAAADIJgpmAAAAwAIFMwAAAGCBghkAAACwUOgX/Z09e1bLQkJCjG3r1KmjZQcOHMjW/StXrmzMW7durWUxMTFa1rlzZ2P/U6dOudx2+/btFiPMeSwiyd/GjBmjZdOmTTO2vXXrlpZFR0dr2erVq7M/sFxWmOd1QV305+xe69at0zLTUfLJycnZH1guK8zzGmbO6hjTcdemxX0iIu+9956WPfnkk9kaV1aw6A8AAADIJgpmAAAAwAIFMwAAAGCBghkAAACwQMEMAAAAWPDK7QHkhICAAGO+YMECLQsNDdWyYcOGGftnd0cMk5SUFJfzDz/8UMvq1q1r7P+///1PyxYuXGhse99992nZ8ePHjW2Bv3rnnXe0LDMz09h2+vTpWvbaa69pWePGjY3909LSsjg6FFam19DZs2e73P/VV191ue3u3bu1zLQDE5DfmWqOVatWGduWL19eyxYtWmRseyd3xPineMIMAAAAWKBgBgAAACxQMAMAAAAWKJgBAAAACwVy0V/v3r2NuekI3h07dmiZ6ZjTvOqnn34y5qa/A2dvzB84cKCWvfDCC9kaFwqP1NRULXN2tLVp0V+tWrW0rGjRosb+LPrLH5wdYZzdo409PPRnPM4WmP7+++9a9vrrr7t8rwoVKmiZs+NzZ82apWXOjgcHXBEVFWXMmzRpomUvvvhijozB9NpsWgzr7LhrU30yc+bM7A8sl/CEGQAAALBAwQwAAABYoGAGAAAALFAwAwAAABby/aI/0yIQ0+I+ZyIjI7Xs6tWr2RpTXmBauLh582Zj27i4OC1j0R+yw7TgSsR8gmTFihVzeji4w5wtjnOWu8q0wC+713Rm1KhRWvbQQw8Z25oWYpkyZw4ePKhlu3btcrk/8rcBAwZombNTKTdu3KhlJUqU0LKsnDRZsmRJY246fc90MrBp4beIyNSpU7Vs+/btLo8rr+EJMwAAAGCBghkAAACwQMEMAAAAWKBgBgAAACxQMAMAAAAW8v0uGX379tUyZyuZf/vtNy0rCDtimNy6dUvLbt68aWxbqlQpLWvWrJmWJScnZ39gKBTOnTtnzE+fPq1l7JJR8OzYscOYBwUFaZmzY9Czy3Tdhg0batn333/v8jXfeustY16uXDnXB2aQmJioZW+++aax7ZUrV7TMdAQxcpeznSfGjh2rZSNHjtSyAwcOGPubjnfPyo4YRYoU0TJnR2sPGjRIyy5duqRl//d//2fs//HHH7s8rvyAJ8wAAACABQpmAAAAwAIFMwAAAGCBghkAAACwkO8X/YWFhbncdvny5Tk4kvzLx8dHy8qXL58LIwFQEHTt2tWYL126VMvat29vbOvv75+tMdStW1fLli1bpmUtWrRw+ZoeHjnzjKlXr15aFhsba2y7efNmLYuMjHT7mKAzHUEtIjJ69GgtGzx4sLFtcHCwlpmOu+7YsaOxv2nRZ1YsWLBAy7p37+5y/xdeeEHL4uPjszWm/IInzAAAAIAFCmYAAADAAgUzAAAAYIGCGQAAALCQ7xf92Ww2lzIRkTlz5uT0cPI0Z38vphOFFi9enNPDgQXTyWGPPfaYsW1OnZT2VytWrDDmx44d0zI/Pz9j2/r162vZvn37tCw1NTVrg0O+YFoMmJCQYGyblYVIripTpoyWHT161NjW9HqplHL7mJA3mU7qe//9941tY2JiXL6uab69/PLLWmY6/U9ExNvb26X7xMXFGXPTgv6szGvTJgGFBU+YAQAAAAsUzAAAAIAFCmYAAADAAgUzAAAAYIGCGQAAALCQ73fJMK1O3bVrl7GtaTV/QWU6ftPZsZ6ffPJJTg8HYj5W95lnnjG2HTNmjJaZVm07k5mZqWVXr141tvX19dUyT09PLRs1apSx/8WLF7Xs119/Nbb18tJfclatWqVlaWlpxv4oeEzHQouIvPrqq1pm+n4xzXV3MH2/3sl7Ods9pHfv3jkyBjgaMmSIlkVHRxvbZmWXicqVK2vZypUrs3XNrDBdd/v27ca2pp9DpmO8CwueMAMAAAAWKJgBAAAACxTMAAAAgAUKZgAAAMBCvln05+zoyXr16mnZd999Z2xbmBYS9e3bV8tq165tbHvt2rWcHg5EpEmTJlr2yiuvGNteuHBBywYPHmxse/nyZS07f/68ln3zzTfG/hEREVpWt25dLTMdaywicv/992tZSEiIsa2J6ajWqlWrGtseOXLE5esifzMtTjItusupxVF38l7vvvuulj3//PM5ci+45sqVK1qWnp5ubGtaUG16DXZm0aJFWuZsIZ7paOwlS5a4fK+DBw9q2UMPPWRse/r0aZevWxjwhBkAAACwQMEMAAAAWKBgBgAAACxQMAMAAAAWKJgBAAAAC/lmlwwfHx9jbrPZ7vBI8pZy5coZ89mzZ2uZsyPD33vvPXcOCU50797d5bamI4A//PBDdw7HbsOGDS5ly5YtM/bfvHmzllWqVMnl+/fs2VPLWrRoYWwbHx+vZSdPnjS2nTNnjpbdvHnT5XEhd82aNUvLTEe2Dxs27E4MJ0eZdmTIyi4LcL/XXntNy/73v/8Z2546dUrLTpw4ka37e3mZy7MFCxa41P/69evGfPjw4VrGbhiu4QkzAAAAYIGCGQAAALBAwQwAAABYoGAGAAAALOSbRX+rV6825hcvXryzA8lFcXFxWvbCCy+43N+0kEykcP0d5qZu3bppmbN5/dFHH+X0cCyZjst+/fXXjW1NC/zOnDljbLt06VItMy1cffDBB439x44da8xNTIteTEcQI286duyYlpkWct66dcvYf+TIkW4fU04xHU3sbNGYaTEa7owdO3bcsXuZFu6LmBdJm17rRo0aZezv7GcO/h5PmAEAAAALFMwAAACABQpmAAAAwAIFMwAAAGAh3yz6u3z5sjFft26dljVr1szYtk6dOlq2d+/e7A0smypXrmzM58+fr2WRkZFadvjwYWP/e+65R8t++umnLI0N7vXbb79pWY0aNYxthwwZomXOTvpLT0936f7Ovi9iYmK0zLRgxNmpmvPmzdOyp556ytjW2elTf+XsVETTwsm7777b2DYtLc2leyH/OHDggJZt3bo1F0biXtWrV9eyQYMGGdtmZGRo2Ztvvun2MeHO6dixo5YNGDDA2Nb0OrxmzRotMy2QRfbwhBkAAACwQMEMAAAAWKBgBgAAACxQMAMAAAAWKJgBAAAACzallHKpoZMV8rmtX79+WmbaYUJE5Ouvv9YyZ0fw5oQnnnhCy15++WVj2+DgYC1bsmSJlj366KPG/vlphwAXp2COuJPzetiwYVo2depUY1s/Pz8tO3nypLGts6OB/6p06dLG/Ny5c1pmmmvOxursCN87JSAgwJjn9vdAYZnXuS02NtaYL1q0KFvX9fDQnydlZmZm65ruuNemTZu0zLSDUk5hXmdPo0aNtCwpKUnLihQp4vI1W7durWUbNmzI2sAKOVfmNU+YAQAAAAsUzAAAAIAFCmYAAADAAgUzAAAAYCHfHI3tzMKFC7WsU6dOxrY9e/bUsn379mlZ7969jf2joqK0zNfX1+X+pmOQt2/fbmw7ceJELVu7dq2WuXrUMHLfrFmztOx///ufsa1pMarp+FwRkSpVqmjZL7/8omW7d+829jctkjUtBMyrcntxH3LX8ePHjfm3336rZe3atXP5uqZFdzm14O1O3gu5q2bNmlrm4+OjZVevXjX2N9UhzuoIuBdPmAEAAAALFMwAAACABQpmAAAAwAIFMwAAAGCBghkAAACwkO+PxjapX7++MTcdlWrauSKnVicvW7ZMy5588klj2zNnzuTIGPIijlpFQcS8zl3NmjXTsqwcF2z6O8yp/6dZudfmzZu1jKOx8w/T0dhz5szRshkzZhj7JyQkuH1M4GhsAAAAINsomAEAAAALFMwAAACABQpmAAAAwEK+PxrbZNeuXca8ZcuWWhYbG6tlMTExxv4nTpzQsmvXrmnZJ598Yuy/ceNGYw4AcK+bN29q2e+//65lZcqUuRPDybL09HRjfvr06Ts8EriT6Rjrxo0b58JIkFU8YQYAAAAsUDADAAAAFiiYAQAAAAsUzAAAAICFAnnSH/IXTo5CQcS8znsqVKigZUePHjW2ze2T/hITE41t+/TpkyNjcBXzGgURJ/0BAAAA2UTBDAAAAFigYAYAAAAsUDADAAAAFiiYAQAAAAvskoFcx6prFETMaxREzGsUROySAQAAAGQTBTMAAABggYIZAAAAsEDBDAAAAFigYAYAAAAsUDADAAAAFiiYAQAAAAsUzAAAAIAFCmYAAADAAgUzAAAAYIGCGQAAALBAwQwAAABYoGAGAAAALFAwAwAAABYomAEAAAALNqWUyu1BAAAAAHkVT5gBAAAACxTMAAAAgAUKZgAAAMACBTMAAABggYIZAAAAsEDBDAAAAFigYAYAAAAsUDADAAAAFiiYAQAAAAv/HzlkDqvMYcVNAAAAAElFTkSuQmCC\n"
          },
          "metadata": {}
        }
      ]
    },
    {
      "cell_type": "markdown",
      "source": [
        "#4 . Replicating tinyVGG architecture for model"
      ],
      "metadata": {
        "id": "LXhEBN8N79p2"
      }
    },
    {
      "cell_type": "code",
      "source": [
        "from torch import nn\n",
        "class tinyvgg(nn.Module):\n",
        "  \"\"\"\"\n",
        "  tinyVGG replica\n",
        "  \"\"\"\"\"\n",
        "  def __init__(self,input_shape,hidden_shape,output_shape):\n",
        "    super().__init__()\n",
        "    self.block1=nn.Sequential(\n",
        "        nn.Conv2d(input_shape,hidden_shape,kernel_size=3,stride=1,padding=1),\n",
        "        nn.ReLU(),\n",
        "        nn.Conv2d(hidden_shape,hidden_shape,kernel_size=3,stride=1,padding=1),\n",
        "        nn.ReLU(),\n",
        "        nn.MaxPool2d(kernel_size=2,\n",
        "                     stride=2)\n",
        "    )\n",
        "\n",
        "    self.block2=nn.Sequential(\n",
        "        nn.Conv2d(hidden_shape,hidden_shape,kernel_size=3,stride=1,padding=1),\n",
        "        nn.ReLU(),\n",
        "        nn.Conv2d(hidden_shape,hidden_shape,kernel_size=3,stride=1,padding=1),\n",
        "        nn.ReLU(),\n",
        "        nn.MaxPool2d(kernel_size=2,\n",
        "                     stride=2)\n",
        "    )\n",
        "\n",
        "    self.classifier=nn.Sequential(\n",
        "        nn.Flatten(),\n",
        "        nn.Linear(in_features=hidden_shape*7*7,out_features=output_shape)\n",
        "    )\n",
        "\n",
        "\n",
        "  def forward(self,x):\n",
        "    x=self.block1(x)\n",
        "    # print(x.shape)\n",
        "    x=self.block2(x)\n",
        "    # print(x.shape)\n",
        "    x=self.classifier(x)\n",
        "    # print(x.shape)\n",
        "    return x\n",
        "\n",
        "torch.manual_seed=42\n",
        "MNSITmodel=tinyvgg(input_shape=1,hidden_shape=10,output_shape=len(class_names))\n",
        "MNSITmodel"
      ],
      "metadata": {
        "colab": {
          "base_uri": "https://localhost:8080/"
        },
        "id": "32BFXPcR8EEQ",
        "outputId": "de027b14-abe6-451e-ead8-e47605896a53"
      },
      "execution_count": null,
      "outputs": [
        {
          "output_type": "execute_result",
          "data": {
            "text/plain": [
              "tinyvgg(\n",
              "  (block1): Sequential(\n",
              "    (0): Conv2d(1, 10, kernel_size=(3, 3), stride=(1, 1), padding=(1, 1))\n",
              "    (1): ReLU()\n",
              "    (2): Conv2d(10, 10, kernel_size=(3, 3), stride=(1, 1), padding=(1, 1))\n",
              "    (3): ReLU()\n",
              "    (4): MaxPool2d(kernel_size=2, stride=2, padding=0, dilation=1, ceil_mode=False)\n",
              "  )\n",
              "  (block2): Sequential(\n",
              "    (0): Conv2d(10, 10, kernel_size=(3, 3), stride=(1, 1), padding=(1, 1))\n",
              "    (1): ReLU()\n",
              "    (2): Conv2d(10, 10, kernel_size=(3, 3), stride=(1, 1), padding=(1, 1))\n",
              "    (3): ReLU()\n",
              "    (4): MaxPool2d(kernel_size=2, stride=2, padding=0, dilation=1, ceil_mode=False)\n",
              "  )\n",
              "  (classifier): Sequential(\n",
              "    (0): Flatten(start_dim=1, end_dim=-1)\n",
              "    (1): Linear(in_features=490, out_features=10, bias=True)\n",
              "  )\n",
              ")"
            ]
          },
          "metadata": {},
          "execution_count": 6
        }
      ]
    },
    {
      "cell_type": "markdown",
      "source": [
        "#5 . Loss fn ,optim and acc_fn"
      ],
      "metadata": {
        "id": "qtJ3a8CW8HRV"
      }
    },
    {
      "cell_type": "code",
      "source": [
        "from helper_functions import accuracy_fn\n",
        "loss_fn=nn.CrossEntropyLoss()\n",
        "optimizer=torch.optim.SGD(params=MNSITmodel.parameters(),lr=0.1)"
      ],
      "metadata": {
        "id": "pCqR7fb48HI9"
      },
      "execution_count": null,
      "outputs": []
    },
    {
      "cell_type": "markdown",
      "source": [
        "#6 . Train and test data"
      ],
      "metadata": {
        "id": "9vN6fj4d8N0q"
      }
    },
    {
      "cell_type": "code",
      "source": [
        "def train_step(model:nn.Module,data_loader:torch.utils.data.DataLoader,loss_fn:torch.nn.Module,optimizer:torch.optim.Optimizer,\n",
        "               accuracy_fn,\n",
        "               device:torch.device=device):\n",
        "  train_loss,train_acc=0,0\n",
        "\n",
        "  model.train()\n",
        "  model.to(device)\n",
        "  for batch,(X,y) in enumerate(data_loader):\n",
        "    X,y=X.to(device),y.to(device)\n",
        "\n",
        "    y_pred=model(X)\n",
        "\n",
        "    loss=loss_fn(y_pred,y)\n",
        "    train_loss+=loss\n",
        "    train_acc+=accuracy_fn(y_true=y,y_pred=y_pred.argmax(dim=1))\n",
        "\n",
        "    optimizer.zero_grad()\n",
        "\n",
        "    loss.backward()\n",
        "\n",
        "    optimizer.step()\n",
        "\n",
        "\n",
        "  train_loss/=len(data_loader)\n",
        "  train_acc/=len(data_loader)\n",
        "  print(f\"Train loss: {train_loss:.5f} | Train accuracy: {train_acc:.2f}%\")\n",
        "\n"
      ],
      "metadata": {
        "id": "8DQr6d5x8CFF"
      },
      "execution_count": null,
      "outputs": []
    },
    {
      "cell_type": "code",
      "source": [
        "def test_step(data_loader:torch.utils.data.DataLoader,\n",
        "              model:nn.Module,\n",
        "              loss_fn:torch.nn.Module,\n",
        "              accuracy_fn,\n",
        "              device:torch.device=device):\n",
        "  test_loss,test_acc=0,0\n",
        "  model.to(device)\n",
        "  model.eval()\n",
        "  with torch.inference_mode():\n",
        "    for X,y in data_loader:\n",
        "\n",
        "      X,y=X.to(device),y.to(device)\n",
        "\n",
        "      test_pred=model(X)\n",
        "\n",
        "      test_loss+=loss_fn(test_pred,y)\n",
        "      test_acc+=accuracy_fn(y_true=y,\n",
        "                            y_pred=test_pred.argmax(dim=1))\n",
        "\n",
        "    test_loss /= len(data_loader)\n",
        "    test_acc /= len(data_loader)\n",
        "    print(f\"Test loss: {test_loss:.5f} | Test accuracy: {test_acc:.2f}%\\n\")"
      ],
      "metadata": {
        "id": "yCWJ5WOj8ZDp"
      },
      "execution_count": null,
      "outputs": []
    },
    {
      "cell_type": "markdown",
      "source": [
        "# 10. Make predictions with the trained model and visualize at least 5 of them comparing the prediciton to the target label."
      ],
      "metadata": {
        "id": "7irLcCCn8bHa"
      }
    },
    {
      "cell_type": "code",
      "source": [
        "from timeit import default_timer as timer # to give the start and stop time of our model to calc its speed\n",
        "def print_train_time(start:float,end:float,device:torch.device = None):\n",
        "  total_time = end-start\n",
        "  print(f\"total time on {device} : {total_time:.3f} seconds\")\n",
        "  return total_time"
      ],
      "metadata": {
        "id": "6k3ahvl98d9x"
      },
      "execution_count": null,
      "outputs": []
    },
    {
      "cell_type": "code",
      "source": [
        "torch.manual_seed=42\n",
        "\n",
        "# Measure time\n",
        "from timeit import default_timer as timer\n",
        "train_time_start_on_gpu = timer()\n",
        "from tqdm.auto import tqdm\n",
        "\n",
        "epochs = 6\n",
        "for epoch in tqdm(range(epochs)):\n",
        "    print(f\"Epoch: {epoch}\\n---------\")\n",
        "    train_step(data_loader=train_dataloader,\n",
        "        model=MNSITmodel,\n",
        "        loss_fn=loss_fn,\n",
        "        optimizer=optimizer,\n",
        "        accuracy_fn=accuracy_fn\n",
        "    )\n",
        "    test_step(data_loader=test_dataloader,\n",
        "        model=MNSITmodel,\n",
        "        loss_fn=loss_fn,\n",
        "        accuracy_fn=accuracy_fn\n",
        "    )\n",
        "\n",
        "train_time_end_on_gpu = timer()\n",
        "total_train_time_model_1 = print_train_time(start=train_time_start_on_gpu,\n",
        "                                            end=train_time_end_on_gpu,\n",
        "                                            device=device)"
      ],
      "metadata": {
        "colab": {
          "base_uri": "https://localhost:8080/",
          "height": 587,
          "referenced_widgets": [
            "92578defcd0e4600a14e85f4d6804bf9",
            "0182f6cf8d0a4a69849b3c9af1843745",
            "275aa84a40e644db9a4d03eecae770fb",
            "4152390be9a74eb882b21eb743ad7fc8",
            "e08ad2a6228e4dd698dc9441805b9c16",
            "e9f402afb35b4e97af2f151054244507",
            "44b8c786ba34482ca0b7e0c940fad6b3",
            "5357dee712e545cca5b0100d4dc0b74c",
            "b0baedee79be4cc79cedf1c12d43d975",
            "cf80dc166ac94ed983f519f0ad46a9ee",
            "738da893a7e24fee8337825d1b9a8237"
          ]
        },
        "id": "aJriN9aH8t-y",
        "outputId": "508be97d-4696-4142-a769-eb5af0bbe247"
      },
      "execution_count": null,
      "outputs": [
        {
          "output_type": "display_data",
          "data": {
            "text/plain": [
              "  0%|          | 0/6 [00:00<?, ?it/s]"
            ],
            "application/vnd.jupyter.widget-view+json": {
              "version_major": 2,
              "version_minor": 0,
              "model_id": "92578defcd0e4600a14e85f4d6804bf9"
            }
          },
          "metadata": {}
        },
        {
          "output_type": "stream",
          "name": "stdout",
          "text": [
            "Epoch: 0\n",
            "---------\n",
            "Train loss: 0.31451 | Train accuracy: 89.36%\n",
            "Test loss: 0.07954 | Test accuracy: 97.51%\n",
            "\n",
            "Epoch: 1\n",
            "---------\n",
            "Train loss: 0.07384 | Train accuracy: 97.69%\n",
            "Test loss: 0.05010 | Test accuracy: 98.40%\n",
            "\n",
            "Epoch: 2\n",
            "---------\n",
            "Train loss: 0.05727 | Train accuracy: 98.25%\n",
            "Test loss: 0.04538 | Test accuracy: 98.52%\n",
            "\n",
            "Epoch: 3\n",
            "---------\n",
            "Train loss: 0.04847 | Train accuracy: 98.52%\n",
            "Test loss: 0.04259 | Test accuracy: 98.53%\n",
            "\n",
            "Epoch: 4\n",
            "---------\n",
            "Train loss: 0.04114 | Train accuracy: 98.71%\n",
            "Test loss: 0.05573 | Test accuracy: 98.16%\n",
            "\n",
            "Epoch: 5\n",
            "---------\n",
            "Train loss: 0.03805 | Train accuracy: 98.83%\n",
            "Test loss: 0.03739 | Test accuracy: 98.84%\n",
            "\n",
            "total time on cuda : 81.838 seconds\n"
          ]
        }
      ]
    },
    {
      "cell_type": "code",
      "source": [
        "def make_predictions(model: torch.nn.Module, data: list, device: torch.device = device):\n",
        "    pred_probs = []\n",
        "    model.eval()\n",
        "    with torch.inference_mode():\n",
        "        for sample in data:\n",
        "            # Prepare sample\n",
        "            sample = torch.unsqueeze(sample, dim=0).to(device) # Add an extra dimension and send sample to device\n",
        "\n",
        "            # Forward pass (model outputs raw logit)\n",
        "            pred_logit = model(sample)\n",
        "\n",
        "            # Get prediction probability (logit -> prediction probability)\n",
        "            pred_prob = torch.softmax(pred_logit.squeeze(), dim=0) # note: perform softmax on the \"logits\" dimension, not \"batch\" dimension (in this case we have a batch size of 1, so can perform on dim=0)\n",
        "\n",
        "            # Get pred_prob off GPU for further calculations\n",
        "            pred_probs.append(pred_prob.cpu())\n",
        "\n",
        "    # Stack the pred_probs to turn list into a tensor\n",
        "    return torch.stack(pred_probs)"
      ],
      "metadata": {
        "id": "QFPwOcrl8wJ6"
      },
      "execution_count": null,
      "outputs": []
    },
    {
      "cell_type": "code",
      "source": [
        "import random\n",
        "# random.seed(42)\n",
        "test_samples = []\n",
        "test_labels = []\n",
        "for sample, label in random.sample(list(test_data), k=9):\n",
        "    test_samples.append(sample)\n",
        "    test_labels.append(label)\n",
        "\n",
        "# View the first test sample shape and label\n",
        "print(f\"Test sample image shape: {test_samples[0].shape}\\nTest sample label: {test_labels[0]} ({class_names[test_labels[0]]})\")"
      ],
      "metadata": {
        "colab": {
          "base_uri": "https://localhost:8080/"
        },
        "id": "n85q4cuQ8zxu",
        "outputId": "b0adb46c-015b-477f-bcb6-eef0d4e0c659"
      },
      "execution_count": null,
      "outputs": [
        {
          "output_type": "stream",
          "name": "stdout",
          "text": [
            "Test sample image shape: torch.Size([1, 28, 28])\n",
            "Test sample label: 2 (2 - two)\n"
          ]
        }
      ]
    },
    {
      "cell_type": "code",
      "source": [
        "# Make predictions on test samples with model 2\n",
        "pred_probs= make_predictions(model=MNSITmodel,\n",
        "                             data=test_samples)\n",
        "\n",
        "# View first two prediction probabilities list\n",
        "pred_probs[:2]"
      ],
      "metadata": {
        "colab": {
          "base_uri": "https://localhost:8080/"
        },
        "id": "rvv9jJnf8095",
        "outputId": "a72c1cd2-0958-4b92-c231-b3cfb36cef0e"
      },
      "execution_count": null,
      "outputs": [
        {
          "output_type": "execute_result",
          "data": {
            "text/plain": [
              "tensor([[1.1813e-13, 4.5714e-08, 1.0000e+00, 2.7965e-07, 1.3559e-12, 4.1976e-11,\n",
              "         1.4843e-14, 2.1710e-07, 4.4095e-07, 3.6962e-13],\n",
              "        [6.9878e-08, 3.4078e-13, 9.9991e-01, 4.1137e-10, 9.7012e-12, 1.4837e-14,\n",
              "         3.9990e-15, 8.5627e-11, 8.9232e-05, 3.1136e-10]])"
            ]
          },
          "metadata": {},
          "execution_count": 14
        }
      ]
    },
    {
      "cell_type": "code",
      "source": [
        "pred_classes = pred_probs.argmax(dim=1)\n",
        "pred_classes"
      ],
      "metadata": {
        "colab": {
          "base_uri": "https://localhost:8080/"
        },
        "id": "X0wkcbLc82T7",
        "outputId": "0248bcd5-787d-400b-8c77-bebf6884e7b0"
      },
      "execution_count": null,
      "outputs": [
        {
          "output_type": "execute_result",
          "data": {
            "text/plain": [
              "tensor([2, 2, 8, 8, 8, 8, 5, 6, 6])"
            ]
          },
          "metadata": {},
          "execution_count": 15
        }
      ]
    },
    {
      "cell_type": "code",
      "source": [
        "# Plot predictions\n",
        "plt.figure(figsize=(9, 9))\n",
        "nrows = 3\n",
        "ncols = 3\n",
        "for i, sample in enumerate(test_samples):\n",
        "  # Create a subplot\n",
        "  plt.subplot(nrows, ncols, i+1)\n",
        "\n",
        "  # Plot the target image\n",
        "  plt.imshow(sample.squeeze(), cmap=\"gray\")\n",
        "\n",
        "  # Find the prediction label (in text form, e.g. \"Sandal\")\n",
        "  pred_label = class_names[pred_classes[i]]\n",
        "\n",
        "  # Get the truth label (in text form, e.g. \"T-shirt\")\n",
        "  truth_label = class_names[test_labels[i]]\n",
        "\n",
        "  # Create the title text of the plot\n",
        "  title_text = f\"Pred: {pred_label} | Truth: {truth_label}\"\n",
        "\n",
        "  # Check for equality and change title colour accordingly\n",
        "  if pred_label == truth_label:\n",
        "      plt.title(title_text, fontsize=10, c=\"g\") # green text if correct\n",
        "  else:\n",
        "      plt.title(title_text, fontsize=10, c=\"r\") # red text if wrong\n",
        "  plt.axis(False);"
      ],
      "metadata": {
        "colab": {
          "base_uri": "https://localhost:8080/",
          "height": 749
        },
        "id": "yYg09p6383dY",
        "outputId": "928c7a5a-d301-41cf-a5e9-35777d7c0b1f"
      },
      "execution_count": null,
      "outputs": [
        {
          "output_type": "display_data",
          "data": {
            "text/plain": [
              "<Figure size 900x900 with 9 Axes>"
            ],
            "image/png": "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\n"
          },
          "metadata": {}
        }
      ]
    },
    {
      "cell_type": "code",
      "source": [
        "!pip install mlxtend"
      ],
      "metadata": {
        "colab": {
          "base_uri": "https://localhost:8080/"
        },
        "id": "lJXM-WJ585Mh",
        "outputId": "06cd9b66-ed16-45cd-f0c7-4653aa38daa0"
      },
      "execution_count": null,
      "outputs": [
        {
          "output_type": "stream",
          "name": "stdout",
          "text": [
            "Requirement already satisfied: mlxtend in /usr/local/lib/python3.12/dist-packages (0.23.4)\n",
            "Requirement already satisfied: scipy>=1.2.1 in /usr/local/lib/python3.12/dist-packages (from mlxtend) (1.16.1)\n",
            "Requirement already satisfied: numpy>=1.16.2 in /usr/local/lib/python3.12/dist-packages (from mlxtend) (2.0.2)\n",
            "Requirement already satisfied: pandas>=0.24.2 in /usr/local/lib/python3.12/dist-packages (from mlxtend) (2.2.2)\n",
            "Requirement already satisfied: scikit-learn>=1.3.1 in /usr/local/lib/python3.12/dist-packages (from mlxtend) (1.6.1)\n",
            "Requirement already satisfied: matplotlib>=3.0.0 in /usr/local/lib/python3.12/dist-packages (from mlxtend) (3.10.0)\n",
            "Requirement already satisfied: joblib>=0.13.2 in /usr/local/lib/python3.12/dist-packages (from mlxtend) (1.5.1)\n",
            "Requirement already satisfied: contourpy>=1.0.1 in /usr/local/lib/python3.12/dist-packages (from matplotlib>=3.0.0->mlxtend) (1.3.3)\n",
            "Requirement already satisfied: cycler>=0.10 in /usr/local/lib/python3.12/dist-packages (from matplotlib>=3.0.0->mlxtend) (0.12.1)\n",
            "Requirement already satisfied: fonttools>=4.22.0 in /usr/local/lib/python3.12/dist-packages (from matplotlib>=3.0.0->mlxtend) (4.59.1)\n",
            "Requirement already satisfied: kiwisolver>=1.3.1 in /usr/local/lib/python3.12/dist-packages (from matplotlib>=3.0.0->mlxtend) (1.4.9)\n",
            "Requirement already satisfied: packaging>=20.0 in /usr/local/lib/python3.12/dist-packages (from matplotlib>=3.0.0->mlxtend) (25.0)\n",
            "Requirement already satisfied: pillow>=8 in /usr/local/lib/python3.12/dist-packages (from matplotlib>=3.0.0->mlxtend) (11.3.0)\n",
            "Requirement already satisfied: pyparsing>=2.3.1 in /usr/local/lib/python3.12/dist-packages (from matplotlib>=3.0.0->mlxtend) (3.2.3)\n",
            "Requirement already satisfied: python-dateutil>=2.7 in /usr/local/lib/python3.12/dist-packages (from matplotlib>=3.0.0->mlxtend) (2.9.0.post0)\n",
            "Requirement already satisfied: pytz>=2020.1 in /usr/local/lib/python3.12/dist-packages (from pandas>=0.24.2->mlxtend) (2025.2)\n",
            "Requirement already satisfied: tzdata>=2022.7 in /usr/local/lib/python3.12/dist-packages (from pandas>=0.24.2->mlxtend) (2025.2)\n",
            "Requirement already satisfied: threadpoolctl>=3.1.0 in /usr/local/lib/python3.12/dist-packages (from scikit-learn>=1.3.1->mlxtend) (3.6.0)\n",
            "Requirement already satisfied: six>=1.5 in /usr/local/lib/python3.12/dist-packages (from python-dateutil>=2.7->matplotlib>=3.0.0->mlxtend) (1.17.0)\n"
          ]
        }
      ]
    },
    {
      "cell_type": "code",
      "source": [
        "# Import tqdm for progress bar\n",
        "from tqdm.auto import tqdm\n",
        "\n",
        "# 1. Make predictions with trained model\n",
        "y_preds = []\n",
        "MNSITmodel.eval()\n",
        "with torch.inference_mode():\n",
        "  for X, y in tqdm(test_dataloader, desc=\"Making predictions\"):\n",
        "    # Send data and targets to target device\n",
        "    X, y = X.to(device), y.to(device)\n",
        "    # Do the forward pass\n",
        "    y_logit = MNSITmodel(X)\n",
        "    # Turn predictions from logits -> prediction probabilities -> predictions labels\n",
        "    y_pred = torch.softmax(y_logit, dim=1).argmax(dim=1) # note: perform softmax on the \"logits\" dimension, not \"batch\" dimension (in this case we have a batch size of 32, so can perform on dim=1)\n",
        "    # Put predictions on CPU for evaluation\n",
        "    y_preds.append(y_pred.cpu())\n",
        "# Concatenate list of predictions into a tensor\n",
        "y_pred_tensor = torch.cat(y_preds)"
      ],
      "metadata": {
        "colab": {
          "base_uri": "https://localhost:8080/",
          "height": 49,
          "referenced_widgets": [
            "89b6780cfd824c15aca60c03897d27bd",
            "dac4a9dbf5a74cc781951c8aed5c2c0d",
            "3ad23be3d91b45bd87ee1b75fcb9389c",
            "252222b082bc4718963c70b2a304818f",
            "b8cf6ca08e244a86843527c665d148b2",
            "ec244f3ee26345528e308f80bae727bd",
            "718ee3c9721f44699f3012ab00e64b35",
            "7b4e489aec3b4c2184620e7e31aeccc8",
            "f5557b6019924ade9aee43f9233624a6",
            "5fceda1befd5464ca62f8472d3fba0d2",
            "3a009cafae4d4e89863a6606a35338ef"
          ]
        },
        "id": "OdMUaGCw86TK",
        "outputId": "cbf51676-5755-4a97-8a4e-f457c81f9c43"
      },
      "execution_count": null,
      "outputs": [
        {
          "output_type": "display_data",
          "data": {
            "text/plain": [
              "Making predictions:   0%|          | 0/313 [00:00<?, ?it/s]"
            ],
            "application/vnd.jupyter.widget-view+json": {
              "version_major": 2,
              "version_minor": 0,
              "model_id": "89b6780cfd824c15aca60c03897d27bd"
            }
          },
          "metadata": {}
        }
      ]
    },
    {
      "cell_type": "code",
      "source": [
        "# See if torchmetrics exists, if not, install it\n",
        "try:\n",
        "    import torchmetrics, mlxtend\n",
        "    print(f\"mlxtend version: {mlxtend.__version__}\")\n",
        "    assert int(mlxtend.__version__.split(\".\")[1]) >= 19, \"mlxtend verison should be 0.19.0 or higher\"\n",
        "except:\n",
        "    !pip install -q torchmetrics -U mlxtend # <- Note: If you're using Google Colab, this may require restarting the runtime\n",
        "    import torchmetrics, mlxtend\n",
        "    print(f\"mlxtend version: {mlxtend.__version__}\")"
      ],
      "metadata": {
        "colab": {
          "base_uri": "https://localhost:8080/"
        },
        "id": "wFySNehF88Vo",
        "outputId": "ba9166cf-cf70-4723-e006-6693f6f1d2c9"
      },
      "execution_count": null,
      "outputs": [
        {
          "output_type": "stream",
          "name": "stdout",
          "text": [
            "\u001b[?25l   \u001b[90m━━━━━━━━━━━━━━━━━━━━━━━━━━━━━━━━━━━━━━━━\u001b[0m \u001b[32m0.0/983.0 kB\u001b[0m \u001b[31m?\u001b[0m eta \u001b[36m-:--:--\u001b[0m\r\u001b[2K   \u001b[91m━━━━━━━━━━━━━━━━━━━━━━━━━━━━━━━━━━━━━━━\u001b[0m\u001b[91m╸\u001b[0m \u001b[32m972.8/983.0 kB\u001b[0m \u001b[31m46.1 MB/s\u001b[0m eta \u001b[36m0:00:01\u001b[0m\r\u001b[2K   \u001b[90m━━━━━━━━━━━━━━━━━━━━━━━━━━━━━━━━━━━━━━━━\u001b[0m \u001b[32m983.0/983.0 kB\u001b[0m \u001b[31m27.3 MB/s\u001b[0m eta \u001b[36m0:00:00\u001b[0m\n",
            "\u001b[?25hmlxtend version: 0.23.4\n"
          ]
        }
      ]
    },
    {
      "cell_type": "code",
      "source": [
        "from torchmetrics import ConfusionMatrix\n",
        "from mlxtend.plotting import plot_confusion_matrix\n",
        "\n",
        "# 2. Setup confusion matrix instance and compare predictions to targets\n",
        "confmat = ConfusionMatrix(num_classes=len(class_names), task='multiclass')\n",
        "confmat_tensor = confmat(preds=y_pred_tensor,\n",
        "                         target=test_data.targets)\n",
        "\n",
        "# 3. Plot the confusion matrix\n",
        "fig, ax = plot_confusion_matrix(\n",
        "    conf_mat=confmat_tensor.numpy(), # matplotlib likes working with NumPy\n",
        "    class_names=class_names, # turn the row and column labels into class names\n",
        "    figsize=(10, 7)\n",
        ");"
      ],
      "metadata": {
        "colab": {
          "base_uri": "https://localhost:8080/",
          "height": 660
        },
        "id": "oeQjhyaK89rK",
        "outputId": "36b98755-c5cb-4e38-ad73-e2c0382f1a91"
      },
      "execution_count": null,
      "outputs": [
        {
          "output_type": "display_data",
          "data": {
            "text/plain": [
              "<Figure size 1000x700 with 1 Axes>"
            ],
            "image/png": "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\n"
          },
          "metadata": {}
        }
      ]
    }
  ]
}